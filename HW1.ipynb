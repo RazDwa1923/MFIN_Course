{
 "cells": [
  {
   "metadata": {
    "ExecuteTime": {
     "end_time": "2025-02-06T11:03:59.865182Z",
     "start_time": "2025-02-06T11:03:59.860870Z"
    }
   },
   "cell_type": "code",
   "source": [
    "# Import packages\n",
    "import numpy as np\n",
    "import pandas as pd\n",
    "import seaborn as sns\n",
    "import matplotlib.pyplot as plt\n"
   ],
   "id": "c88c758084a90a5c",
   "outputs": [],
   "execution_count": 2
  },
  {
   "metadata": {
    "ExecuteTime": {
     "end_time": "2025-02-06T11:27:07.243278Z",
     "start_time": "2025-02-06T11:27:07.233317Z"
    }
   },
   "cell_type": "code",
   "source": [
    "import os\n",
    "from dotenv import load_dotenv\n",
    "import os\n",
    "\n",
    "# Load environment variables from the .env file\n",
    "load_dotenv('config.env')\n",
    "\n",
    "# Access the environment variable\n",
    "api_key = os.getenv('MLFINLAB_API_KEY')\n",
    "if api_key is None:\n",
    "    raise ValueError(\"MLFINLAB_API_KEY not found in your environment variables.\")\n",
    "else:\n",
    "    print(\"MLFINLAB_API_KEY is set correctly.\")\n"
   ],
   "id": "f2921b3f3f8ca555",
   "outputs": [
    {
     "name": "stdout",
     "output_type": "stream",
     "text": [
      "MLFINLAB_API_KEY is set correctly.\n"
     ]
    }
   ],
   "execution_count": 4
  },
  {
   "metadata": {
    "ExecuteTime": {
     "end_time": "2025-02-06T11:27:45.955495Z",
     "start_time": "2025-02-06T11:27:45.952899Z"
    }
   },
   "cell_type": "code",
   "source": [
    "# Import MlFinLab tools\n",
    "import mlfinlab\n",
    "from mlfinlab.multi_product.etf_trick import get_futures_roll_series"
   ],
   "id": "bf428285959a70ce",
   "outputs": [],
   "execution_count": 6
  },
  {
   "metadata": {
    "ExecuteTime": {
     "end_time": "2025-02-06T11:32:40.494666Z",
     "start_time": "2025-02-06T11:32:39.851600Z"
    }
   },
   "cell_type": "code",
   "source": [
    "# Import data\n",
    "url = \"https://raw.githubusercontent.com/hudson-and-thames/example-data/main/futures_stitched.csv\"\n",
    "aggregated_df = pd.read_csv(url, index_col = 0, parse_dates = [0])\n"
   ],
   "id": "c101dabe860fa93f",
   "outputs": [],
   "execution_count": 13
  },
  {
   "metadata": {
    "ExecuteTime": {
     "end_time": "2025-02-06T11:32:43.432346Z",
     "start_time": "2025-02-06T11:32:43.420285Z"
    }
   },
   "cell_type": "code",
   "source": "aggregated_df",
   "id": "3d28c228d6c11627",
   "outputs": [
    {
     "data": {
      "text/plain": [
       "             close    open    high    low  volume  ticker nearest_contract\n",
       "date                                                                      \n",
       "2021-01-04  255.44  254.60  258.80  254.6  2146.0  G_2021           G_2021\n",
       "2021-01-05  247.86  251.00  251.00  246.3  3524.0  G_2021           G_2021\n",
       "2021-01-06  247.38  247.80  248.68  247.2  2614.0  G_2021           G_2021\n",
       "2021-01-07  255.40  250.00  257.00  250.0  2492.0  G_2021           G_2021\n",
       "2021-01-08  258.76  259.48  262.30  258.7  1998.0  G_2021           G_2021\n",
       "...            ...     ...     ...    ...     ...     ...              ...\n",
       "2022-09-23  824.28  850.00  866.00  820.0  2602.0  V_2022           V_2022\n",
       "2022-09-26  804.00  787.00  816.00  780.0  1846.0  V_2022           V_2022\n",
       "2022-09-27  831.18  810.00  922.00  808.0  3334.0  V_2022           V_2022\n",
       "2022-09-28  878.06  910.00  920.00  852.0  2530.0  V_2022           V_2022\n",
       "2022-09-29  812.24  853.00  858.00  808.0  2170.0  V_2022           V_2022\n",
       "\n",
       "[450 rows x 7 columns]"
      ],
      "text/html": [
       "<div>\n",
       "<style scoped>\n",
       "    .dataframe tbody tr th:only-of-type {\n",
       "        vertical-align: middle;\n",
       "    }\n",
       "\n",
       "    .dataframe tbody tr th {\n",
       "        vertical-align: top;\n",
       "    }\n",
       "\n",
       "    .dataframe thead th {\n",
       "        text-align: right;\n",
       "    }\n",
       "</style>\n",
       "<table border=\"1\" class=\"dataframe\">\n",
       "  <thead>\n",
       "    <tr style=\"text-align: right;\">\n",
       "      <th></th>\n",
       "      <th>close</th>\n",
       "      <th>open</th>\n",
       "      <th>high</th>\n",
       "      <th>low</th>\n",
       "      <th>volume</th>\n",
       "      <th>ticker</th>\n",
       "      <th>nearest_contract</th>\n",
       "    </tr>\n",
       "    <tr>\n",
       "      <th>date</th>\n",
       "      <th></th>\n",
       "      <th></th>\n",
       "      <th></th>\n",
       "      <th></th>\n",
       "      <th></th>\n",
       "      <th></th>\n",
       "      <th></th>\n",
       "    </tr>\n",
       "  </thead>\n",
       "  <tbody>\n",
       "    <tr>\n",
       "      <th>2021-01-04</th>\n",
       "      <td>255.44</td>\n",
       "      <td>254.60</td>\n",
       "      <td>258.80</td>\n",
       "      <td>254.6</td>\n",
       "      <td>2146.0</td>\n",
       "      <td>G_2021</td>\n",
       "      <td>G_2021</td>\n",
       "    </tr>\n",
       "    <tr>\n",
       "      <th>2021-01-05</th>\n",
       "      <td>247.86</td>\n",
       "      <td>251.00</td>\n",
       "      <td>251.00</td>\n",
       "      <td>246.3</td>\n",
       "      <td>3524.0</td>\n",
       "      <td>G_2021</td>\n",
       "      <td>G_2021</td>\n",
       "    </tr>\n",
       "    <tr>\n",
       "      <th>2021-01-06</th>\n",
       "      <td>247.38</td>\n",
       "      <td>247.80</td>\n",
       "      <td>248.68</td>\n",
       "      <td>247.2</td>\n",
       "      <td>2614.0</td>\n",
       "      <td>G_2021</td>\n",
       "      <td>G_2021</td>\n",
       "    </tr>\n",
       "    <tr>\n",
       "      <th>2021-01-07</th>\n",
       "      <td>255.40</td>\n",
       "      <td>250.00</td>\n",
       "      <td>257.00</td>\n",
       "      <td>250.0</td>\n",
       "      <td>2492.0</td>\n",
       "      <td>G_2021</td>\n",
       "      <td>G_2021</td>\n",
       "    </tr>\n",
       "    <tr>\n",
       "      <th>2021-01-08</th>\n",
       "      <td>258.76</td>\n",
       "      <td>259.48</td>\n",
       "      <td>262.30</td>\n",
       "      <td>258.7</td>\n",
       "      <td>1998.0</td>\n",
       "      <td>G_2021</td>\n",
       "      <td>G_2021</td>\n",
       "    </tr>\n",
       "    <tr>\n",
       "      <th>...</th>\n",
       "      <td>...</td>\n",
       "      <td>...</td>\n",
       "      <td>...</td>\n",
       "      <td>...</td>\n",
       "      <td>...</td>\n",
       "      <td>...</td>\n",
       "      <td>...</td>\n",
       "    </tr>\n",
       "    <tr>\n",
       "      <th>2022-09-23</th>\n",
       "      <td>824.28</td>\n",
       "      <td>850.00</td>\n",
       "      <td>866.00</td>\n",
       "      <td>820.0</td>\n",
       "      <td>2602.0</td>\n",
       "      <td>V_2022</td>\n",
       "      <td>V_2022</td>\n",
       "    </tr>\n",
       "    <tr>\n",
       "      <th>2022-09-26</th>\n",
       "      <td>804.00</td>\n",
       "      <td>787.00</td>\n",
       "      <td>816.00</td>\n",
       "      <td>780.0</td>\n",
       "      <td>1846.0</td>\n",
       "      <td>V_2022</td>\n",
       "      <td>V_2022</td>\n",
       "    </tr>\n",
       "    <tr>\n",
       "      <th>2022-09-27</th>\n",
       "      <td>831.18</td>\n",
       "      <td>810.00</td>\n",
       "      <td>922.00</td>\n",
       "      <td>808.0</td>\n",
       "      <td>3334.0</td>\n",
       "      <td>V_2022</td>\n",
       "      <td>V_2022</td>\n",
       "    </tr>\n",
       "    <tr>\n",
       "      <th>2022-09-28</th>\n",
       "      <td>878.06</td>\n",
       "      <td>910.00</td>\n",
       "      <td>920.00</td>\n",
       "      <td>852.0</td>\n",
       "      <td>2530.0</td>\n",
       "      <td>V_2022</td>\n",
       "      <td>V_2022</td>\n",
       "    </tr>\n",
       "    <tr>\n",
       "      <th>2022-09-29</th>\n",
       "      <td>812.24</td>\n",
       "      <td>853.00</td>\n",
       "      <td>858.00</td>\n",
       "      <td>808.0</td>\n",
       "      <td>2170.0</td>\n",
       "      <td>V_2022</td>\n",
       "      <td>V_2022</td>\n",
       "    </tr>\n",
       "  </tbody>\n",
       "</table>\n",
       "<p>450 rows × 7 columns</p>\n",
       "</div>"
      ]
     },
     "execution_count": 14,
     "metadata": {},
     "output_type": "execute_result"
    }
   ],
   "execution_count": 14
  }
 ],
 "metadata": {
  "kernelspec": {
   "display_name": "Python 3",
   "language": "python",
   "name": "python3"
  },
  "language_info": {
   "codemirror_mode": {
    "name": "ipython",
    "version": 2
   },
   "file_extension": ".py",
   "mimetype": "text/x-python",
   "name": "python",
   "nbconvert_exporter": "python",
   "pygments_lexer": "ipython2",
   "version": "2.7.6"
  }
 },
 "nbformat": 4,
 "nbformat_minor": 5
}
