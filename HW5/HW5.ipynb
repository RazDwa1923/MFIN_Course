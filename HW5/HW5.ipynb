{
 "cells": [
  {
   "metadata": {},
   "cell_type": "markdown",
   "source": [
    "## Homework 5: Testing the Effect of Shuffling in CV Machine Learning\n",
    "\n",
    "In this notebook, I will be creating a ML model with 10 fold CV and Random Forest classifier. I will run one model without shuffling and one with shuffling. I will then compare the results of the two models.\n",
    "\n",
    "I would like to see if shuffling the data has a significant effect on the model performance."
   ],
   "id": "d64b1475153cba9a"
  },
  {
   "metadata": {
    "ExecuteTime": {
     "end_time": "2025-04-26T08:04:17.060597Z",
     "start_time": "2025-04-26T08:04:17.057325Z"
    }
   },
   "cell_type": "code",
   "source": [
    "# import libraries\n",
    "import pandas as pd\n",
    "import numpy as np\n",
    "from sklearn.model_selection import train_test_split, cross_val_score, KFold\n",
    "from sklearn.ensemble import RandomForestClassifier\n",
    "from sklearn.metrics import accuracy_score"
   ],
   "id": "cdb9c861a5b5e7a0",
   "outputs": [],
   "execution_count": 107
  },
  {
   "metadata": {
    "ExecuteTime": {
     "end_time": "2025-04-26T08:04:17.090230Z",
     "start_time": "2025-04-26T08:04:17.084391Z"
    }
   },
   "cell_type": "code",
   "source": [
    "# Load the dataset\n",
    "\n",
    "# features matrix\n",
    "X = pd.read_csv('../Data/HW5/X_dataset.csv')\n",
    "# target vector\n",
    "y = pd.read_csv('../Data/HW5/y_dataset.csv')"
   ],
   "id": "2355d4243d33127d",
   "outputs": [],
   "execution_count": 108
  },
  {
   "metadata": {
    "ExecuteTime": {
     "end_time": "2025-04-26T08:04:17.108529Z",
     "start_time": "2025-04-26T08:04:17.106439Z"
    }
   },
   "cell_type": "code",
   "source": [
    "# checking the data\n",
    "print(X.shape)\n",
    "print(y.shape)"
   ],
   "id": "bfe5e41775e1e57b",
   "outputs": [
    {
     "name": "stdout",
     "output_type": "stream",
     "text": [
      "(214, 22)\n",
      "(214, 2)\n"
     ]
    }
   ],
   "execution_count": 109
  },
  {
   "metadata": {
    "ExecuteTime": {
     "end_time": "2025-04-26T08:04:17.184752Z",
     "start_time": "2025-04-26T08:04:17.173598Z"
    }
   },
   "cell_type": "code",
   "source": [
    "# visually inspecting the data\n",
    "X.head()"
   ],
   "id": "340ffece0e3fa7b6",
   "outputs": [
    {
     "data": {
      "text/plain": [
       "                Unnamed: 0  volume   rsi  side   log_ret      mom1      mom2   \n",
       "0  2019-01-15 07:00:04.787    45.0  62.0  -1.0 -0.007713 -0.007684 -0.009672  \\\n",
       "1  2019-01-16 02:00:43.455    39.0  67.0  -1.0  0.005162  0.005175 -0.002548   \n",
       "2  2019-01-16 20:14:41.162    41.0  69.0  -1.0  0.000344  0.000344 -0.000115   \n",
       "3  2019-01-16 21:02:03.908    40.0  65.0  -1.0  0.000921  0.000922 -0.003136   \n",
       "4  2019-01-17 06:22:37.876    39.0  66.0  -1.0  0.000614  0.000614  0.001536   \n",
       "\n",
       "       mom3      mom4      mom5  ...  autocorr_2  autocorr_3  autocorr_4   \n",
       "0 -0.001088  0.000857 -0.003567  ...   -0.453244    0.079962    0.306627  \\\n",
       "1 -0.004547  0.004081  0.006036  ...   -0.907144    0.219038    0.615262   \n",
       "2  0.012155  0.017393  0.009576  ...   -0.823893    0.067476    0.796368   \n",
       "3 -0.002793 -0.003250  0.008981  ...   -0.681919   -0.215164    0.298161   \n",
       "4 -0.002524 -0.002181 -0.002639  ...   -0.648924   -0.275133    0.336546   \n",
       "\n",
       "   autocorr_5    log_t1    log_t2    log_t3    log_t4    log_t5  sma  \n",
       "0   -0.169316 -0.002006  0.008630  0.001945 -0.004430 -0.000039  1.0  \n",
       "1   -0.052025 -0.007713 -0.002006  0.008630  0.001945 -0.004430  1.0  \n",
       "2   -0.077326 -0.000459  0.012196  0.005162 -0.007713 -0.002006  1.0  \n",
       "3    0.285130 -0.004062  0.000344 -0.000459  0.012196  0.005162  1.0  \n",
       "4    0.721362  0.000921 -0.004062  0.000344 -0.000459  0.012196  1.0  \n",
       "\n",
       "[5 rows x 22 columns]"
      ],
      "text/html": [
       "<div>\n",
       "<style scoped>\n",
       "    .dataframe tbody tr th:only-of-type {\n",
       "        vertical-align: middle;\n",
       "    }\n",
       "\n",
       "    .dataframe tbody tr th {\n",
       "        vertical-align: top;\n",
       "    }\n",
       "\n",
       "    .dataframe thead th {\n",
       "        text-align: right;\n",
       "    }\n",
       "</style>\n",
       "<table border=\"1\" class=\"dataframe\">\n",
       "  <thead>\n",
       "    <tr style=\"text-align: right;\">\n",
       "      <th></th>\n",
       "      <th>Unnamed: 0</th>\n",
       "      <th>volume</th>\n",
       "      <th>rsi</th>\n",
       "      <th>side</th>\n",
       "      <th>log_ret</th>\n",
       "      <th>mom1</th>\n",
       "      <th>mom2</th>\n",
       "      <th>mom3</th>\n",
       "      <th>mom4</th>\n",
       "      <th>mom5</th>\n",
       "      <th>...</th>\n",
       "      <th>autocorr_2</th>\n",
       "      <th>autocorr_3</th>\n",
       "      <th>autocorr_4</th>\n",
       "      <th>autocorr_5</th>\n",
       "      <th>log_t1</th>\n",
       "      <th>log_t2</th>\n",
       "      <th>log_t3</th>\n",
       "      <th>log_t4</th>\n",
       "      <th>log_t5</th>\n",
       "      <th>sma</th>\n",
       "    </tr>\n",
       "  </thead>\n",
       "  <tbody>\n",
       "    <tr>\n",
       "      <th>0</th>\n",
       "      <td>2019-01-15 07:00:04.787</td>\n",
       "      <td>45.0</td>\n",
       "      <td>62.0</td>\n",
       "      <td>-1.0</td>\n",
       "      <td>-0.007713</td>\n",
       "      <td>-0.007684</td>\n",
       "      <td>-0.009672</td>\n",
       "      <td>-0.001088</td>\n",
       "      <td>0.000857</td>\n",
       "      <td>-0.003567</td>\n",
       "      <td>...</td>\n",
       "      <td>-0.453244</td>\n",
       "      <td>0.079962</td>\n",
       "      <td>0.306627</td>\n",
       "      <td>-0.169316</td>\n",
       "      <td>-0.002006</td>\n",
       "      <td>0.008630</td>\n",
       "      <td>0.001945</td>\n",
       "      <td>-0.004430</td>\n",
       "      <td>-0.000039</td>\n",
       "      <td>1.0</td>\n",
       "    </tr>\n",
       "    <tr>\n",
       "      <th>1</th>\n",
       "      <td>2019-01-16 02:00:43.455</td>\n",
       "      <td>39.0</td>\n",
       "      <td>67.0</td>\n",
       "      <td>-1.0</td>\n",
       "      <td>0.005162</td>\n",
       "      <td>0.005175</td>\n",
       "      <td>-0.002548</td>\n",
       "      <td>-0.004547</td>\n",
       "      <td>0.004081</td>\n",
       "      <td>0.006036</td>\n",
       "      <td>...</td>\n",
       "      <td>-0.907144</td>\n",
       "      <td>0.219038</td>\n",
       "      <td>0.615262</td>\n",
       "      <td>-0.052025</td>\n",
       "      <td>-0.007713</td>\n",
       "      <td>-0.002006</td>\n",
       "      <td>0.008630</td>\n",
       "      <td>0.001945</td>\n",
       "      <td>-0.004430</td>\n",
       "      <td>1.0</td>\n",
       "    </tr>\n",
       "    <tr>\n",
       "      <th>2</th>\n",
       "      <td>2019-01-16 20:14:41.162</td>\n",
       "      <td>41.0</td>\n",
       "      <td>69.0</td>\n",
       "      <td>-1.0</td>\n",
       "      <td>0.000344</td>\n",
       "      <td>0.000344</td>\n",
       "      <td>-0.000115</td>\n",
       "      <td>0.012155</td>\n",
       "      <td>0.017393</td>\n",
       "      <td>0.009576</td>\n",
       "      <td>...</td>\n",
       "      <td>-0.823893</td>\n",
       "      <td>0.067476</td>\n",
       "      <td>0.796368</td>\n",
       "      <td>-0.077326</td>\n",
       "      <td>-0.000459</td>\n",
       "      <td>0.012196</td>\n",
       "      <td>0.005162</td>\n",
       "      <td>-0.007713</td>\n",
       "      <td>-0.002006</td>\n",
       "      <td>1.0</td>\n",
       "    </tr>\n",
       "    <tr>\n",
       "      <th>3</th>\n",
       "      <td>2019-01-16 21:02:03.908</td>\n",
       "      <td>40.0</td>\n",
       "      <td>65.0</td>\n",
       "      <td>-1.0</td>\n",
       "      <td>0.000921</td>\n",
       "      <td>0.000922</td>\n",
       "      <td>-0.003136</td>\n",
       "      <td>-0.002793</td>\n",
       "      <td>-0.003250</td>\n",
       "      <td>0.008981</td>\n",
       "      <td>...</td>\n",
       "      <td>-0.681919</td>\n",
       "      <td>-0.215164</td>\n",
       "      <td>0.298161</td>\n",
       "      <td>0.285130</td>\n",
       "      <td>-0.004062</td>\n",
       "      <td>0.000344</td>\n",
       "      <td>-0.000459</td>\n",
       "      <td>0.012196</td>\n",
       "      <td>0.005162</td>\n",
       "      <td>1.0</td>\n",
       "    </tr>\n",
       "    <tr>\n",
       "      <th>4</th>\n",
       "      <td>2019-01-17 06:22:37.876</td>\n",
       "      <td>39.0</td>\n",
       "      <td>66.0</td>\n",
       "      <td>-1.0</td>\n",
       "      <td>0.000614</td>\n",
       "      <td>0.000614</td>\n",
       "      <td>0.001536</td>\n",
       "      <td>-0.002524</td>\n",
       "      <td>-0.002181</td>\n",
       "      <td>-0.002639</td>\n",
       "      <td>...</td>\n",
       "      <td>-0.648924</td>\n",
       "      <td>-0.275133</td>\n",
       "      <td>0.336546</td>\n",
       "      <td>0.721362</td>\n",
       "      <td>0.000921</td>\n",
       "      <td>-0.004062</td>\n",
       "      <td>0.000344</td>\n",
       "      <td>-0.000459</td>\n",
       "      <td>0.012196</td>\n",
       "      <td>1.0</td>\n",
       "    </tr>\n",
       "  </tbody>\n",
       "</table>\n",
       "<p>5 rows × 22 columns</p>\n",
       "</div>"
      ]
     },
     "execution_count": 110,
     "metadata": {},
     "output_type": "execute_result"
    }
   ],
   "execution_count": 110
  },
  {
   "metadata": {
    "ExecuteTime": {
     "end_time": "2025-04-26T08:04:17.234678Z",
     "start_time": "2025-04-26T08:04:17.230741Z"
    }
   },
   "cell_type": "code",
   "source": [
    "# checking the target vector\n",
    "y.head()\n"
   ],
   "id": "4b91e51c272aa043",
   "outputs": [
    {
     "data": {
      "text/plain": [
       "                Unnamed: 0  bin\n",
       "0  2019-01-15 07:00:04.787    0\n",
       "1  2019-01-16 02:00:43.455    1\n",
       "2  2019-01-16 20:14:41.162    0\n",
       "3  2019-01-16 21:02:03.908    0\n",
       "4  2019-01-17 06:22:37.876    0"
      ],
      "text/html": [
       "<div>\n",
       "<style scoped>\n",
       "    .dataframe tbody tr th:only-of-type {\n",
       "        vertical-align: middle;\n",
       "    }\n",
       "\n",
       "    .dataframe tbody tr th {\n",
       "        vertical-align: top;\n",
       "    }\n",
       "\n",
       "    .dataframe thead th {\n",
       "        text-align: right;\n",
       "    }\n",
       "</style>\n",
       "<table border=\"1\" class=\"dataframe\">\n",
       "  <thead>\n",
       "    <tr style=\"text-align: right;\">\n",
       "      <th></th>\n",
       "      <th>Unnamed: 0</th>\n",
       "      <th>bin</th>\n",
       "    </tr>\n",
       "  </thead>\n",
       "  <tbody>\n",
       "    <tr>\n",
       "      <th>0</th>\n",
       "      <td>2019-01-15 07:00:04.787</td>\n",
       "      <td>0</td>\n",
       "    </tr>\n",
       "    <tr>\n",
       "      <th>1</th>\n",
       "      <td>2019-01-16 02:00:43.455</td>\n",
       "      <td>1</td>\n",
       "    </tr>\n",
       "    <tr>\n",
       "      <th>2</th>\n",
       "      <td>2019-01-16 20:14:41.162</td>\n",
       "      <td>0</td>\n",
       "    </tr>\n",
       "    <tr>\n",
       "      <th>3</th>\n",
       "      <td>2019-01-16 21:02:03.908</td>\n",
       "      <td>0</td>\n",
       "    </tr>\n",
       "    <tr>\n",
       "      <th>4</th>\n",
       "      <td>2019-01-17 06:22:37.876</td>\n",
       "      <td>0</td>\n",
       "    </tr>\n",
       "  </tbody>\n",
       "</table>\n",
       "</div>"
      ]
     },
     "execution_count": 111,
     "metadata": {},
     "output_type": "execute_result"
    }
   ],
   "execution_count": 111
  },
  {
   "metadata": {
    "ExecuteTime": {
     "end_time": "2025-04-26T08:04:17.311744Z",
     "start_time": "2025-04-26T08:04:17.300641Z"
    }
   },
   "cell_type": "code",
   "source": [
    "# joining the features and target vector\n",
    "data = pd.concat([X, y], axis=1, join='inner')\n",
    "\n",
    "data.head()"
   ],
   "id": "eafb61297b4225d8",
   "outputs": [
    {
     "data": {
      "text/plain": [
       "                Unnamed: 0  volume   rsi  side   log_ret      mom1      mom2   \n",
       "0  2019-01-15 07:00:04.787    45.0  62.0  -1.0 -0.007713 -0.007684 -0.009672  \\\n",
       "1  2019-01-16 02:00:43.455    39.0  67.0  -1.0  0.005162  0.005175 -0.002548   \n",
       "2  2019-01-16 20:14:41.162    41.0  69.0  -1.0  0.000344  0.000344 -0.000115   \n",
       "3  2019-01-16 21:02:03.908    40.0  65.0  -1.0  0.000921  0.000922 -0.003136   \n",
       "4  2019-01-17 06:22:37.876    39.0  66.0  -1.0  0.000614  0.000614  0.001536   \n",
       "\n",
       "       mom3      mom4      mom5  ...  autocorr_4  autocorr_5    log_t1   \n",
       "0 -0.001088  0.000857 -0.003567  ...    0.306627   -0.169316 -0.002006  \\\n",
       "1 -0.004547  0.004081  0.006036  ...    0.615262   -0.052025 -0.007713   \n",
       "2  0.012155  0.017393  0.009576  ...    0.796368   -0.077326 -0.000459   \n",
       "3 -0.002793 -0.003250  0.008981  ...    0.298161    0.285130 -0.004062   \n",
       "4 -0.002524 -0.002181 -0.002639  ...    0.336546    0.721362  0.000921   \n",
       "\n",
       "     log_t2    log_t3    log_t4    log_t5  sma               Unnamed: 0  bin  \n",
       "0  0.008630  0.001945 -0.004430 -0.000039  1.0  2019-01-15 07:00:04.787    0  \n",
       "1 -0.002006  0.008630  0.001945 -0.004430  1.0  2019-01-16 02:00:43.455    1  \n",
       "2  0.012196  0.005162 -0.007713 -0.002006  1.0  2019-01-16 20:14:41.162    0  \n",
       "3  0.000344 -0.000459  0.012196  0.005162  1.0  2019-01-16 21:02:03.908    0  \n",
       "4 -0.004062  0.000344 -0.000459  0.012196  1.0  2019-01-17 06:22:37.876    0  \n",
       "\n",
       "[5 rows x 24 columns]"
      ],
      "text/html": [
       "<div>\n",
       "<style scoped>\n",
       "    .dataframe tbody tr th:only-of-type {\n",
       "        vertical-align: middle;\n",
       "    }\n",
       "\n",
       "    .dataframe tbody tr th {\n",
       "        vertical-align: top;\n",
       "    }\n",
       "\n",
       "    .dataframe thead th {\n",
       "        text-align: right;\n",
       "    }\n",
       "</style>\n",
       "<table border=\"1\" class=\"dataframe\">\n",
       "  <thead>\n",
       "    <tr style=\"text-align: right;\">\n",
       "      <th></th>\n",
       "      <th>Unnamed: 0</th>\n",
       "      <th>volume</th>\n",
       "      <th>rsi</th>\n",
       "      <th>side</th>\n",
       "      <th>log_ret</th>\n",
       "      <th>mom1</th>\n",
       "      <th>mom2</th>\n",
       "      <th>mom3</th>\n",
       "      <th>mom4</th>\n",
       "      <th>mom5</th>\n",
       "      <th>...</th>\n",
       "      <th>autocorr_4</th>\n",
       "      <th>autocorr_5</th>\n",
       "      <th>log_t1</th>\n",
       "      <th>log_t2</th>\n",
       "      <th>log_t3</th>\n",
       "      <th>log_t4</th>\n",
       "      <th>log_t5</th>\n",
       "      <th>sma</th>\n",
       "      <th>Unnamed: 0</th>\n",
       "      <th>bin</th>\n",
       "    </tr>\n",
       "  </thead>\n",
       "  <tbody>\n",
       "    <tr>\n",
       "      <th>0</th>\n",
       "      <td>2019-01-15 07:00:04.787</td>\n",
       "      <td>45.0</td>\n",
       "      <td>62.0</td>\n",
       "      <td>-1.0</td>\n",
       "      <td>-0.007713</td>\n",
       "      <td>-0.007684</td>\n",
       "      <td>-0.009672</td>\n",
       "      <td>-0.001088</td>\n",
       "      <td>0.000857</td>\n",
       "      <td>-0.003567</td>\n",
       "      <td>...</td>\n",
       "      <td>0.306627</td>\n",
       "      <td>-0.169316</td>\n",
       "      <td>-0.002006</td>\n",
       "      <td>0.008630</td>\n",
       "      <td>0.001945</td>\n",
       "      <td>-0.004430</td>\n",
       "      <td>-0.000039</td>\n",
       "      <td>1.0</td>\n",
       "      <td>2019-01-15 07:00:04.787</td>\n",
       "      <td>0</td>\n",
       "    </tr>\n",
       "    <tr>\n",
       "      <th>1</th>\n",
       "      <td>2019-01-16 02:00:43.455</td>\n",
       "      <td>39.0</td>\n",
       "      <td>67.0</td>\n",
       "      <td>-1.0</td>\n",
       "      <td>0.005162</td>\n",
       "      <td>0.005175</td>\n",
       "      <td>-0.002548</td>\n",
       "      <td>-0.004547</td>\n",
       "      <td>0.004081</td>\n",
       "      <td>0.006036</td>\n",
       "      <td>...</td>\n",
       "      <td>0.615262</td>\n",
       "      <td>-0.052025</td>\n",
       "      <td>-0.007713</td>\n",
       "      <td>-0.002006</td>\n",
       "      <td>0.008630</td>\n",
       "      <td>0.001945</td>\n",
       "      <td>-0.004430</td>\n",
       "      <td>1.0</td>\n",
       "      <td>2019-01-16 02:00:43.455</td>\n",
       "      <td>1</td>\n",
       "    </tr>\n",
       "    <tr>\n",
       "      <th>2</th>\n",
       "      <td>2019-01-16 20:14:41.162</td>\n",
       "      <td>41.0</td>\n",
       "      <td>69.0</td>\n",
       "      <td>-1.0</td>\n",
       "      <td>0.000344</td>\n",
       "      <td>0.000344</td>\n",
       "      <td>-0.000115</td>\n",
       "      <td>0.012155</td>\n",
       "      <td>0.017393</td>\n",
       "      <td>0.009576</td>\n",
       "      <td>...</td>\n",
       "      <td>0.796368</td>\n",
       "      <td>-0.077326</td>\n",
       "      <td>-0.000459</td>\n",
       "      <td>0.012196</td>\n",
       "      <td>0.005162</td>\n",
       "      <td>-0.007713</td>\n",
       "      <td>-0.002006</td>\n",
       "      <td>1.0</td>\n",
       "      <td>2019-01-16 20:14:41.162</td>\n",
       "      <td>0</td>\n",
       "    </tr>\n",
       "    <tr>\n",
       "      <th>3</th>\n",
       "      <td>2019-01-16 21:02:03.908</td>\n",
       "      <td>40.0</td>\n",
       "      <td>65.0</td>\n",
       "      <td>-1.0</td>\n",
       "      <td>0.000921</td>\n",
       "      <td>0.000922</td>\n",
       "      <td>-0.003136</td>\n",
       "      <td>-0.002793</td>\n",
       "      <td>-0.003250</td>\n",
       "      <td>0.008981</td>\n",
       "      <td>...</td>\n",
       "      <td>0.298161</td>\n",
       "      <td>0.285130</td>\n",
       "      <td>-0.004062</td>\n",
       "      <td>0.000344</td>\n",
       "      <td>-0.000459</td>\n",
       "      <td>0.012196</td>\n",
       "      <td>0.005162</td>\n",
       "      <td>1.0</td>\n",
       "      <td>2019-01-16 21:02:03.908</td>\n",
       "      <td>0</td>\n",
       "    </tr>\n",
       "    <tr>\n",
       "      <th>4</th>\n",
       "      <td>2019-01-17 06:22:37.876</td>\n",
       "      <td>39.0</td>\n",
       "      <td>66.0</td>\n",
       "      <td>-1.0</td>\n",
       "      <td>0.000614</td>\n",
       "      <td>0.000614</td>\n",
       "      <td>0.001536</td>\n",
       "      <td>-0.002524</td>\n",
       "      <td>-0.002181</td>\n",
       "      <td>-0.002639</td>\n",
       "      <td>...</td>\n",
       "      <td>0.336546</td>\n",
       "      <td>0.721362</td>\n",
       "      <td>0.000921</td>\n",
       "      <td>-0.004062</td>\n",
       "      <td>0.000344</td>\n",
       "      <td>-0.000459</td>\n",
       "      <td>0.012196</td>\n",
       "      <td>1.0</td>\n",
       "      <td>2019-01-17 06:22:37.876</td>\n",
       "      <td>0</td>\n",
       "    </tr>\n",
       "  </tbody>\n",
       "</table>\n",
       "<p>5 rows × 24 columns</p>\n",
       "</div>"
      ]
     },
     "execution_count": 112,
     "metadata": {},
     "output_type": "execute_result"
    }
   ],
   "execution_count": 112
  },
  {
   "metadata": {
    "ExecuteTime": {
     "end_time": "2025-04-26T08:04:17.457500Z",
     "start_time": "2025-04-26T08:04:17.454487Z"
    }
   },
   "cell_type": "code",
   "source": [
    "# value counts of the target variable\n",
    "print(data['bin'].value_counts())"
   ],
   "id": "5d0085b60e3af1a0",
   "outputs": [
    {
     "name": "stdout",
     "output_type": "stream",
     "text": [
      "bin\n",
      "1    111\n",
      "0    103\n",
      "Name: count, dtype: int64\n"
     ]
    }
   ],
   "execution_count": 113
  },
  {
   "metadata": {
    "ExecuteTime": {
     "end_time": "2025-04-26T08:04:17.558084Z",
     "start_time": "2025-04-26T08:04:17.555223Z"
    }
   },
   "cell_type": "code",
   "source": [
    "# recreating the X and y matrices\n",
    "X = data.drop(columns=['bin'])\n",
    "y = data['bin']\n",
    "\n",
    "# dropping the unnamed column\n",
    "X = X.drop(columns=['Unnamed: 0'])"
   ],
   "id": "2240f0e93528f709",
   "outputs": [],
   "execution_count": 114
  },
  {
   "metadata": {
    "ExecuteTime": {
     "end_time": "2025-04-26T08:04:17.655144Z",
     "start_time": "2025-04-26T08:04:17.653655Z"
    }
   },
   "cell_type": "code",
   "source": "",
   "id": "a3fa26c84caba338",
   "outputs": [],
   "execution_count": null
  },
  {
   "metadata": {},
   "cell_type": "markdown",
   "source": "###  Fitting the model without shuffling",
   "id": "7c1cccae61abf03a"
  },
  {
   "metadata": {
    "ExecuteTime": {
     "end_time": "2025-04-26T08:22:37.658150Z",
     "start_time": "2025-04-26T08:22:37.025542Z"
    }
   },
   "cell_type": "code",
   "source": [
    "# Split the data into training and testing sets\n",
    "X_train, X_test, y_train, y_test = train_test_split(X, y, test_size=0.2, shuffle=False)\n",
    "\n",
    "# Create the model\n",
    "clf = RandomForestClassifier(n_estimators=100, random_state=42)\n",
    "\n",
    "# Perform cross-validation on the training set\n",
    "cv_gen = KFold(n_splits=10, shuffle=False)\n",
    "cv_scores = cross_val_score(clf, X_train, y_train, cv=cv_gen, scoring='accuracy')\n",
    "\n",
    "# Print cross-validation results\n",
    "print(\"Cross-Validation Accuracy: %0.2f (+/- %0.2f)\" % (cv_scores.mean(), cv_scores.std() * 2))\n",
    "\n",
    "# Fit the model on the training set\n",
    "clf.fit(X_train, y_train)\n",
    "\n",
    "# Evaluate the model on the test set\n",
    "y_pred = clf.predict(X_test)\n",
    "test_accuracy = accuracy_score(y_test, y_pred)\n",
    "print(f\"Test Accuracy: {test_accuracy:.2f}\")"
   ],
   "id": "4f1cfa1d2085538f",
   "outputs": [
    {
     "name": "stdout",
     "output_type": "stream",
     "text": [
      "Cross-Validation Accuracy: 0.57 (+/- 0.25)\n",
      "Test Accuracy: 0.47\n"
     ]
    }
   ],
   "execution_count": 131
  },
  {
   "metadata": {},
   "cell_type": "markdown",
   "source": "### Fitting the model with shuffling",
   "id": "73e9a5c09a9d1a5d"
  },
  {
   "metadata": {
    "ExecuteTime": {
     "end_time": "2025-04-26T08:24:34.141432Z",
     "start_time": "2025-04-26T08:24:33.507863Z"
    }
   },
   "cell_type": "code",
   "source": [
    "# Split the data into training and testing sets\n",
    "X_train, X_test, y_train, y_test = train_test_split(X, y, test_size=0.2, shuffle=True, random_state=42)\n",
    "\n",
    "# Create the model\n",
    "clf = RandomForestClassifier(n_estimators=100, random_state=42)\n",
    "\n",
    "# Perform cross-validation on the training set\n",
    "cv_gen = KFold(n_splits=10, shuffle=False)\n",
    "cv_scores = cross_val_score(clf, X_train, y_train, cv=cv_gen, scoring='accuracy')\n",
    "\n",
    "# Print cross-validation results\n",
    "print(\"Cross-Validation Accuracy: %0.2f (+/- %0.2f)\" % (cv_scores.mean(), cv_scores.std() * 2))\n",
    "\n",
    "# Fit the model on the training set\n",
    "clf.fit(X_train, y_train)\n",
    "\n",
    "# Evaluate the model on the test set\n",
    "y_pred = clf.predict(X_test)\n",
    "test_accuracy = accuracy_score(y_test, y_pred)\n",
    "print(f\"Test Accuracy: {test_accuracy:.2f}\")"
   ],
   "id": "f9a32059f589a573",
   "outputs": [
    {
     "name": "stdout",
     "output_type": "stream",
     "text": [
      "Cross-Validation Accuracy: 0.57 (+/- 0.27)\n",
      "Test Accuracy: 0.67\n"
     ]
    }
   ],
   "execution_count": 134
  }
 ],
 "metadata": {
  "kernelspec": {
   "display_name": "Python 3",
   "language": "python",
   "name": "python3"
  },
  "language_info": {
   "codemirror_mode": {
    "name": "ipython",
    "version": 2
   },
   "file_extension": ".py",
   "mimetype": "text/x-python",
   "name": "python",
   "nbconvert_exporter": "python",
   "pygments_lexer": "ipython2",
   "version": "2.7.6"
  }
 },
 "nbformat": 4,
 "nbformat_minor": 5
}
