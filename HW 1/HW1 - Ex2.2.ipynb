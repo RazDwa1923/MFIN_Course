{
 "cells": [
  {
   "metadata": {},
   "cell_type": "markdown",
   "source": "### Importing Packages and API Key",
   "id": "7c69fcc8a36dc94c"
  },
  {
   "metadata": {
    "ExecuteTime": {
     "end_time": "2025-02-09T08:24:13.336419Z",
     "start_time": "2025-02-09T08:24:13.330080Z"
    }
   },
   "cell_type": "code",
   "source": [
    "# Import packages\n",
    "import numpy as np\n",
    "import pandas as pd\n",
    "import seaborn as sns\n",
    "import matplotlib.pyplot as plt\n",
    "import os\n",
    "from dotenv import load_dotenv\n",
    "from scipy import stats\n",
    "\n",
    "# Load environment variables from the .env file\n",
    "load_dotenv('../config.env')\n"
   ],
   "id": "7506c83f1d9efaeb",
   "outputs": [
    {
     "data": {
      "text/plain": [
       "True"
      ]
     },
     "execution_count": 1,
     "metadata": {},
     "output_type": "execute_result"
    }
   ],
   "execution_count": 1
  },
  {
   "metadata": {
    "ExecuteTime": {
     "end_time": "2025-02-09T08:24:17.434767Z",
     "start_time": "2025-02-09T08:24:13.339106Z"
    }
   },
   "cell_type": "code",
   "source": [
    "# Import MlFinLab package\n",
    "import mlfinlab\n",
    "from mlfinlab.data_structures.standard_data_structures import (get_dollar_bars,\n",
    "                                                               get_tick_bars, get_volume_bars)\n",
    "\n",
    "from mlfinlab.multi_product.etf_trick import get_futures_roll_series\n",
    "from mlfinlab.data_structures.imbalance_data_structures import get_ema_dollar_imbalance_bars\n"
   ],
   "id": "f4241373409827ea",
   "outputs": [
    {
     "name": "stderr",
     "output_type": "stream",
     "text": [
      "<frozen mlfinlab.util.fast_ewma>:17: NumbaDeprecationWarning: The 'nopython' keyword argument was not supplied to the 'numba.jit' decorator. The implicit default value for this argument is currently False, but it will be changed to True in Numba 0.59.0. See https://numba.readthedocs.io/en/stable/reference/deprecation.html#deprecation-of-object-mode-fall-back-behaviour-when-using-jit for details.\n"
     ]
    }
   ],
   "execution_count": 2
  },
  {
   "metadata": {},
   "cell_type": "markdown",
   "source": "### Importing Data and Creating Dollar, Volume and Tick Bars",
   "id": "f94e4af20570e7c1"
  },
  {
   "metadata": {
    "ExecuteTime": {
     "end_time": "2025-02-09T08:24:20.091793Z",
     "start_time": "2025-02-09T08:24:17.468322Z"
    }
   },
   "cell_type": "code",
   "source": [
    "# import ES_Trades data\n",
    "path = '../Data/ES_Trades.csv'\n",
    "data = pd.read_csv(path)\n",
    "\n",
    "# viewing data\n",
    "data.head()\n"
   ],
   "id": "23a73d9a805527fa",
   "outputs": [
    {
     "data": {
      "text/plain": [
       "  Symbol        Date          Time    Price  Volume Market Flag   \n",
       "0  ESU13  09/01/2013  17:00:00.083  1640.25       8           E  \\\n",
       "1  ESU13  09/01/2013  17:00:00.083  1640.25       1           E   \n",
       "2  ESU13  09/01/2013  17:00:00.083  1640.25       2           E   \n",
       "3  ESU13  09/01/2013  17:00:00.083  1640.25       1           E   \n",
       "4  ESU13  09/01/2013  17:00:00.083  1640.25       1           E   \n",
       "\n",
       "   Sales Condition  Exclude Record Flag  Unfiltered Price  \n",
       "0                0                  NaN           1640.25  \n",
       "1                0                  NaN           1640.25  \n",
       "2                0                  NaN           1640.25  \n",
       "3                0                  NaN           1640.25  \n",
       "4                0                  NaN           1640.25  "
      ],
      "text/html": [
       "<div>\n",
       "<style scoped>\n",
       "    .dataframe tbody tr th:only-of-type {\n",
       "        vertical-align: middle;\n",
       "    }\n",
       "\n",
       "    .dataframe tbody tr th {\n",
       "        vertical-align: top;\n",
       "    }\n",
       "\n",
       "    .dataframe thead th {\n",
       "        text-align: right;\n",
       "    }\n",
       "</style>\n",
       "<table border=\"1\" class=\"dataframe\">\n",
       "  <thead>\n",
       "    <tr style=\"text-align: right;\">\n",
       "      <th></th>\n",
       "      <th>Symbol</th>\n",
       "      <th>Date</th>\n",
       "      <th>Time</th>\n",
       "      <th>Price</th>\n",
       "      <th>Volume</th>\n",
       "      <th>Market Flag</th>\n",
       "      <th>Sales Condition</th>\n",
       "      <th>Exclude Record Flag</th>\n",
       "      <th>Unfiltered Price</th>\n",
       "    </tr>\n",
       "  </thead>\n",
       "  <tbody>\n",
       "    <tr>\n",
       "      <th>0</th>\n",
       "      <td>ESU13</td>\n",
       "      <td>09/01/2013</td>\n",
       "      <td>17:00:00.083</td>\n",
       "      <td>1640.25</td>\n",
       "      <td>8</td>\n",
       "      <td>E</td>\n",
       "      <td>0</td>\n",
       "      <td>NaN</td>\n",
       "      <td>1640.25</td>\n",
       "    </tr>\n",
       "    <tr>\n",
       "      <th>1</th>\n",
       "      <td>ESU13</td>\n",
       "      <td>09/01/2013</td>\n",
       "      <td>17:00:00.083</td>\n",
       "      <td>1640.25</td>\n",
       "      <td>1</td>\n",
       "      <td>E</td>\n",
       "      <td>0</td>\n",
       "      <td>NaN</td>\n",
       "      <td>1640.25</td>\n",
       "    </tr>\n",
       "    <tr>\n",
       "      <th>2</th>\n",
       "      <td>ESU13</td>\n",
       "      <td>09/01/2013</td>\n",
       "      <td>17:00:00.083</td>\n",
       "      <td>1640.25</td>\n",
       "      <td>2</td>\n",
       "      <td>E</td>\n",
       "      <td>0</td>\n",
       "      <td>NaN</td>\n",
       "      <td>1640.25</td>\n",
       "    </tr>\n",
       "    <tr>\n",
       "      <th>3</th>\n",
       "      <td>ESU13</td>\n",
       "      <td>09/01/2013</td>\n",
       "      <td>17:00:00.083</td>\n",
       "      <td>1640.25</td>\n",
       "      <td>1</td>\n",
       "      <td>E</td>\n",
       "      <td>0</td>\n",
       "      <td>NaN</td>\n",
       "      <td>1640.25</td>\n",
       "    </tr>\n",
       "    <tr>\n",
       "      <th>4</th>\n",
       "      <td>ESU13</td>\n",
       "      <td>09/01/2013</td>\n",
       "      <td>17:00:00.083</td>\n",
       "      <td>1640.25</td>\n",
       "      <td>1</td>\n",
       "      <td>E</td>\n",
       "      <td>0</td>\n",
       "      <td>NaN</td>\n",
       "      <td>1640.25</td>\n",
       "    </tr>\n",
       "  </tbody>\n",
       "</table>\n",
       "</div>"
      ]
     },
     "execution_count": 3,
     "metadata": {},
     "output_type": "execute_result"
    }
   ],
   "execution_count": 3
  },
  {
   "metadata": {
    "ExecuteTime": {
     "end_time": "2025-02-09T08:24:20.253719Z",
     "start_time": "2025-02-09T08:24:20.122803Z"
    }
   },
   "cell_type": "code",
   "source": [
    "# get all unique values of the 'Symbol' column\n",
    "\n",
    "data['Symbol'].unique()"
   ],
   "id": "f5ea14f74e4ec470",
   "outputs": [
    {
     "data": {
      "text/plain": [
       "array(['ESU13', 'ESZ13'], dtype=object)"
      ]
     },
     "execution_count": 4,
     "metadata": {},
     "output_type": "execute_result"
    }
   ],
   "execution_count": 4
  },
  {
   "metadata": {
    "ExecuteTime": {
     "end_time": "2025-02-09T08:24:20.805868Z",
     "start_time": "2025-02-09T08:24:20.278088Z"
    }
   },
   "cell_type": "code",
   "source": [
    "# Format the Data\n",
    "date_time = data['Date'] + ' ' + data['Time'] # Dont convert to datetime here, it will take forever to convert.\n",
    "new_data = pd.concat([date_time, data['Price'], data['Volume']], axis=1)\n",
    "new_data.columns = ['date', 'price', 'volume']\n",
    "print(new_data.head())\n",
    "print('\\n')\n",
    "print('Rows:', new_data.shape[0])\n"
   ],
   "id": "d05026bb46d2c762",
   "outputs": [
    {
     "name": "stdout",
     "output_type": "stream",
     "text": [
      "                      date    price  volume\n",
      "0  09/01/2013 17:00:00.083  1640.25       8\n",
      "1  09/01/2013 17:00:00.083  1640.25       1\n",
      "2  09/01/2013 17:00:00.083  1640.25       2\n",
      "3  09/01/2013 17:00:00.083  1640.25       1\n",
      "4  09/01/2013 17:00:00.083  1640.25       1\n",
      "\n",
      "\n",
      "Rows: 5454950\n"
     ]
    }
   ],
   "execution_count": 5
  },
  {
   "metadata": {
    "ExecuteTime": {
     "end_time": "2025-02-09T08:24:27.384272Z",
     "start_time": "2025-02-09T08:24:20.869522Z"
    }
   },
   "cell_type": "code",
   "source": [
    "# 'new_data' can be simply replaced with the file path where 'raw_tick_data' was saved if memory is an issue\n",
    "print('Creating Dollar Bars')\n",
    "dollar = get_dollar_bars(new_data, threshold=70000000,\n",
    "                         batch_size=1000000, verbose=True)\n"
   ],
   "id": "104a24994271ba17",
   "outputs": [
    {
     "name": "stdout",
     "output_type": "stream",
     "text": [
      "Creating Dollar Bars\n",
      "Reading data in batches:\n",
      "Batch number: 0\n",
      "Batch number: 1\n",
      "Batch number: 2\n",
      "Batch number: 3\n",
      "Batch number: 4\n",
      "Batch number: 5\n",
      "Returning bars \n",
      "\n"
     ]
    }
   ],
   "execution_count": 6
  },
  {
   "metadata": {
    "ExecuteTime": {
     "end_time": "2025-02-09T08:24:48.753403Z",
     "start_time": "2025-02-09T08:24:27.393951Z"
    }
   },
   "cell_type": "code",
   "source": [
    "# creating dollar imbalance bars\n",
    "print('Creating Dollar Imbalance Bars')\n",
    "dollar_imbalance = get_ema_dollar_imbalance_bars(new_data, num_prev_bars=3, expected_imbalance_window=100, exp_num_ticks_init=1000, exp_num_ticks_constraints=[1000, 10000],\n",
    "                                                 batch_size=1000000, verbose=True, to_csv=False, analyse_thresholds=False, output_path=None)"
   ],
   "id": "7272f9c84e7b25c5",
   "outputs": [
    {
     "name": "stdout",
     "output_type": "stream",
     "text": [
      "Creating Dollar Imbalance Bars\n",
      "Reading data in batches:\n",
      "Batch number: 0\n",
      "Batch number: 1\n",
      "Batch number: 2\n",
      "Batch number: 3\n",
      "Batch number: 4\n",
      "Batch number: 5\n",
      "Returning bars \n",
      "\n"
     ]
    }
   ],
   "execution_count": 7
  },
  {
   "metadata": {},
   "cell_type": "markdown",
   "source": "### Confirming Sampling",
   "id": "6e98b235d3952687"
  },
  {
   "metadata": {
    "ExecuteTime": {
     "end_time": "2025-02-09T08:24:48.771500Z",
     "start_time": "2025-02-09T08:24:48.763890Z"
    }
   },
   "cell_type": "code",
   "source": [
    "# Confirm the dollar sampling\n",
    "dollar['value'] = dollar['close'] * dollar['volume']\n",
    "dollar.head()\n"
   ],
   "id": "b8a54fff840ab817",
   "outputs": [
    {
     "data": {
      "text/plain": [
       "                         tick_num     open    high      low    close  volume   \n",
       "date_time                                                                      \n",
       "09/01/2013 21:34:39.298     11207  1640.25  1643.5  1639.00  1640.75   42862  \\\n",
       "09/02/2013 02:56:24.209     26547  1640.75  1646.0  1640.25  1644.50   42585   \n",
       "09/02/2013 06:37:33.128     40473  1644.50  1647.5  1644.25  1647.50   42580   \n",
       "09/02/2013 09:34:46.141     51328  1647.50  1648.5  1645.25  1647.00   42535   \n",
       "09/02/2013 22:55:20.297     64261  1647.00  1648.5  1645.25  1648.00   42512   \n",
       "\n",
       "                         cum_buy_volume  cum_ticks  cum_dollar_value   \n",
       "date_time                                                              \n",
       "09/01/2013 21:34:39.298           21896      11207       70347610.00  \\\n",
       "09/02/2013 02:56:24.209           24320      15340       70000546.50   \n",
       "09/02/2013 06:37:33.128           23167      13926       70095794.25   \n",
       "09/02/2013 09:34:46.141           23904      10855       70053015.75   \n",
       "09/02/2013 22:55:20.297           23884      12933       70024910.50   \n",
       "\n",
       "                              value  \n",
       "date_time                            \n",
       "09/01/2013 21:34:39.298  70325826.5  \n",
       "09/02/2013 02:56:24.209  70031032.5  \n",
       "09/02/2013 06:37:33.128  70150550.0  \n",
       "09/02/2013 09:34:46.141  70055145.0  \n",
       "09/02/2013 22:55:20.297  70059776.0  "
      ],
      "text/html": [
       "<div>\n",
       "<style scoped>\n",
       "    .dataframe tbody tr th:only-of-type {\n",
       "        vertical-align: middle;\n",
       "    }\n",
       "\n",
       "    .dataframe tbody tr th {\n",
       "        vertical-align: top;\n",
       "    }\n",
       "\n",
       "    .dataframe thead th {\n",
       "        text-align: right;\n",
       "    }\n",
       "</style>\n",
       "<table border=\"1\" class=\"dataframe\">\n",
       "  <thead>\n",
       "    <tr style=\"text-align: right;\">\n",
       "      <th></th>\n",
       "      <th>tick_num</th>\n",
       "      <th>open</th>\n",
       "      <th>high</th>\n",
       "      <th>low</th>\n",
       "      <th>close</th>\n",
       "      <th>volume</th>\n",
       "      <th>cum_buy_volume</th>\n",
       "      <th>cum_ticks</th>\n",
       "      <th>cum_dollar_value</th>\n",
       "      <th>value</th>\n",
       "    </tr>\n",
       "    <tr>\n",
       "      <th>date_time</th>\n",
       "      <th></th>\n",
       "      <th></th>\n",
       "      <th></th>\n",
       "      <th></th>\n",
       "      <th></th>\n",
       "      <th></th>\n",
       "      <th></th>\n",
       "      <th></th>\n",
       "      <th></th>\n",
       "      <th></th>\n",
       "    </tr>\n",
       "  </thead>\n",
       "  <tbody>\n",
       "    <tr>\n",
       "      <th>09/01/2013 21:34:39.298</th>\n",
       "      <td>11207</td>\n",
       "      <td>1640.25</td>\n",
       "      <td>1643.5</td>\n",
       "      <td>1639.00</td>\n",
       "      <td>1640.75</td>\n",
       "      <td>42862</td>\n",
       "      <td>21896</td>\n",
       "      <td>11207</td>\n",
       "      <td>70347610.00</td>\n",
       "      <td>70325826.5</td>\n",
       "    </tr>\n",
       "    <tr>\n",
       "      <th>09/02/2013 02:56:24.209</th>\n",
       "      <td>26547</td>\n",
       "      <td>1640.75</td>\n",
       "      <td>1646.0</td>\n",
       "      <td>1640.25</td>\n",
       "      <td>1644.50</td>\n",
       "      <td>42585</td>\n",
       "      <td>24320</td>\n",
       "      <td>15340</td>\n",
       "      <td>70000546.50</td>\n",
       "      <td>70031032.5</td>\n",
       "    </tr>\n",
       "    <tr>\n",
       "      <th>09/02/2013 06:37:33.128</th>\n",
       "      <td>40473</td>\n",
       "      <td>1644.50</td>\n",
       "      <td>1647.5</td>\n",
       "      <td>1644.25</td>\n",
       "      <td>1647.50</td>\n",
       "      <td>42580</td>\n",
       "      <td>23167</td>\n",
       "      <td>13926</td>\n",
       "      <td>70095794.25</td>\n",
       "      <td>70150550.0</td>\n",
       "    </tr>\n",
       "    <tr>\n",
       "      <th>09/02/2013 09:34:46.141</th>\n",
       "      <td>51328</td>\n",
       "      <td>1647.50</td>\n",
       "      <td>1648.5</td>\n",
       "      <td>1645.25</td>\n",
       "      <td>1647.00</td>\n",
       "      <td>42535</td>\n",
       "      <td>23904</td>\n",
       "      <td>10855</td>\n",
       "      <td>70053015.75</td>\n",
       "      <td>70055145.0</td>\n",
       "    </tr>\n",
       "    <tr>\n",
       "      <th>09/02/2013 22:55:20.297</th>\n",
       "      <td>64261</td>\n",
       "      <td>1647.00</td>\n",
       "      <td>1648.5</td>\n",
       "      <td>1645.25</td>\n",
       "      <td>1648.00</td>\n",
       "      <td>42512</td>\n",
       "      <td>23884</td>\n",
       "      <td>12933</td>\n",
       "      <td>70024910.50</td>\n",
       "      <td>70059776.0</td>\n",
       "    </tr>\n",
       "  </tbody>\n",
       "</table>\n",
       "</div>"
      ]
     },
     "execution_count": 8,
     "metadata": {},
     "output_type": "execute_result"
    }
   ],
   "execution_count": 8
  },
  {
   "metadata": {
    "ExecuteTime": {
     "end_time": "2025-02-09T08:24:48.809822Z",
     "start_time": "2025-02-09T08:24:48.802691Z"
    }
   },
   "cell_type": "code",
   "source": [
    "# Confirm the dollar imbalance sampling\n",
    "dollar_imbalance['value'] = dollar_imbalance['close'] * dollar_imbalance['volume']\n",
    "dollar_imbalance.head()"
   ],
   "id": "4e0be80645015b15",
   "outputs": [
    {
     "data": {
      "text/plain": [
       "                         tick_num     open     high      low    close   \n",
       "date_time                                                               \n",
       "09/01/2013 17:01:24.420      1000  1640.25  1641.00  1639.00  1640.00  \\\n",
       "09/01/2013 17:08:58.970      1785  1640.00  1641.00  1639.50  1640.50   \n",
       "09/01/2013 19:48:22.032      7606  1640.50  1642.75  1639.50  1642.75   \n",
       "09/03/2013 12:05:03.228    411483  1642.75  1650.00  1632.00  1632.25   \n",
       "09/03/2013 14:16:04.280    531014  1632.25  1638.75  1630.75  1638.75   \n",
       "\n",
       "                          volume  cum_buy_volume  cum_ticks  cum_dollar_value   \n",
       "date_time                                                                       \n",
       "09/01/2013 17:01:24.420     4366            1886       1000      7.160071e+06  \\\n",
       "09/01/2013 17:08:58.970     2696            1715        785      4.422162e+06   \n",
       "09/01/2013 19:48:22.032    22920           13511       5821      3.761332e+07   \n",
       "09/03/2013 12:05:03.228  1492401          732887     403877      2.452809e+09   \n",
       "09/03/2013 14:16:04.280   452350          247094     119531      7.392536e+08   \n",
       "\n",
       "                                value  \n",
       "date_time                              \n",
       "09/01/2013 17:01:24.420  7.160240e+06  \n",
       "09/01/2013 17:08:58.970  4.422788e+06  \n",
       "09/01/2013 19:48:22.032  3.765183e+07  \n",
       "09/03/2013 12:05:03.228  2.435972e+09  \n",
       "09/03/2013 14:16:04.280  7.412886e+08  "
      ],
      "text/html": [
       "<div>\n",
       "<style scoped>\n",
       "    .dataframe tbody tr th:only-of-type {\n",
       "        vertical-align: middle;\n",
       "    }\n",
       "\n",
       "    .dataframe tbody tr th {\n",
       "        vertical-align: top;\n",
       "    }\n",
       "\n",
       "    .dataframe thead th {\n",
       "        text-align: right;\n",
       "    }\n",
       "</style>\n",
       "<table border=\"1\" class=\"dataframe\">\n",
       "  <thead>\n",
       "    <tr style=\"text-align: right;\">\n",
       "      <th></th>\n",
       "      <th>tick_num</th>\n",
       "      <th>open</th>\n",
       "      <th>high</th>\n",
       "      <th>low</th>\n",
       "      <th>close</th>\n",
       "      <th>volume</th>\n",
       "      <th>cum_buy_volume</th>\n",
       "      <th>cum_ticks</th>\n",
       "      <th>cum_dollar_value</th>\n",
       "      <th>value</th>\n",
       "    </tr>\n",
       "    <tr>\n",
       "      <th>date_time</th>\n",
       "      <th></th>\n",
       "      <th></th>\n",
       "      <th></th>\n",
       "      <th></th>\n",
       "      <th></th>\n",
       "      <th></th>\n",
       "      <th></th>\n",
       "      <th></th>\n",
       "      <th></th>\n",
       "      <th></th>\n",
       "    </tr>\n",
       "  </thead>\n",
       "  <tbody>\n",
       "    <tr>\n",
       "      <th>09/01/2013 17:01:24.420</th>\n",
       "      <td>1000</td>\n",
       "      <td>1640.25</td>\n",
       "      <td>1641.00</td>\n",
       "      <td>1639.00</td>\n",
       "      <td>1640.00</td>\n",
       "      <td>4366</td>\n",
       "      <td>1886</td>\n",
       "      <td>1000</td>\n",
       "      <td>7.160071e+06</td>\n",
       "      <td>7.160240e+06</td>\n",
       "    </tr>\n",
       "    <tr>\n",
       "      <th>09/01/2013 17:08:58.970</th>\n",
       "      <td>1785</td>\n",
       "      <td>1640.00</td>\n",
       "      <td>1641.00</td>\n",
       "      <td>1639.50</td>\n",
       "      <td>1640.50</td>\n",
       "      <td>2696</td>\n",
       "      <td>1715</td>\n",
       "      <td>785</td>\n",
       "      <td>4.422162e+06</td>\n",
       "      <td>4.422788e+06</td>\n",
       "    </tr>\n",
       "    <tr>\n",
       "      <th>09/01/2013 19:48:22.032</th>\n",
       "      <td>7606</td>\n",
       "      <td>1640.50</td>\n",
       "      <td>1642.75</td>\n",
       "      <td>1639.50</td>\n",
       "      <td>1642.75</td>\n",
       "      <td>22920</td>\n",
       "      <td>13511</td>\n",
       "      <td>5821</td>\n",
       "      <td>3.761332e+07</td>\n",
       "      <td>3.765183e+07</td>\n",
       "    </tr>\n",
       "    <tr>\n",
       "      <th>09/03/2013 12:05:03.228</th>\n",
       "      <td>411483</td>\n",
       "      <td>1642.75</td>\n",
       "      <td>1650.00</td>\n",
       "      <td>1632.00</td>\n",
       "      <td>1632.25</td>\n",
       "      <td>1492401</td>\n",
       "      <td>732887</td>\n",
       "      <td>403877</td>\n",
       "      <td>2.452809e+09</td>\n",
       "      <td>2.435972e+09</td>\n",
       "    </tr>\n",
       "    <tr>\n",
       "      <th>09/03/2013 14:16:04.280</th>\n",
       "      <td>531014</td>\n",
       "      <td>1632.25</td>\n",
       "      <td>1638.75</td>\n",
       "      <td>1630.75</td>\n",
       "      <td>1638.75</td>\n",
       "      <td>452350</td>\n",
       "      <td>247094</td>\n",
       "      <td>119531</td>\n",
       "      <td>7.392536e+08</td>\n",
       "      <td>7.412886e+08</td>\n",
       "    </tr>\n",
       "  </tbody>\n",
       "</table>\n",
       "</div>"
      ]
     },
     "execution_count": 9,
     "metadata": {},
     "output_type": "execute_result"
    }
   ],
   "execution_count": 9
  },
  {
   "metadata": {},
   "cell_type": "markdown",
   "source": "### Creating a Continuous Futures Contract using the ETF Trick",
   "id": "16b0b9e2ea23b537"
  },
  {
   "metadata": {
    "ExecuteTime": {
     "end_time": "2025-02-09T08:24:48.846463Z",
     "start_time": "2025-02-09T08:24:48.837676Z"
    }
   },
   "cell_type": "code",
   "source": [
    "# making a copy of  dollar and dollar_imbalance\n",
    "dollar_roll = dollar.copy()\n",
    "dollar_imbalance_roll = dollar_imbalance.copy()\n",
    "\n",
    "\n",
    "# Ensure the index is a datetime object for each of the dataframes\n",
    "dollar_roll.index = pd.to_datetime(dollar_roll.index)\n",
    "dollar_imbalance_roll.index = pd.to_datetime(dollar_imbalance_roll.index)\n",
    "\n",
    "# adding a date column to dollar_roll, tick and volume bars\n",
    "dollar_roll['date'] = dollar_roll.index.date\n",
    "dollar_imbalance_roll['date'] = dollar_imbalance_roll.index.date\n",
    "\n",
    "# selecting only the columns we need for the ETF trick: 'date', 'date_time', 'close', 'open', 'high', 'low', 'volume' for each dataframe\n",
    "dollar_roll = dollar_roll[['date', 'close', 'open', 'high', 'low', 'volume']]\n",
    "dollar_imbalance_roll = dollar_imbalance_roll[['date', 'close', 'open', 'high', 'low', 'volume']]\n",
    "\n",
    "# adding a ticker column to dollar_roll with the value 'ES' for each dataframe from above\n",
    "dollar_roll['ticker'] = 'ES'\n",
    "dollar_imbalance_roll['ticker'] = 'ES'\n",
    "\n",
    "# adding a nearest_contract column to dollar_roll with the value 'ES' for each dataframe from above\n",
    "dollar_roll['nearest_contract'] = 'ES'\n",
    "dollar_imbalance_roll['nearest_contract'] = 'ES'\n",
    "\n"
   ],
   "id": "4609e35dad33d0f5",
   "outputs": [],
   "execution_count": 10
  },
  {
   "metadata": {
    "ExecuteTime": {
     "end_time": "2025-02-09T08:24:48.919063Z",
     "start_time": "2025-02-09T08:24:48.909410Z"
    }
   },
   "cell_type": "code",
   "source": [
    "# Get roll gaps (relative or absolute)\n",
    "\n",
    "# for dollar_roll\n",
    "roll_gaps_relative_dollar = get_futures_roll_series(dollar_roll, open_col='open', close_col='close',\n",
    "                                             sec_col='ticker', current_sec_col='nearest_contract', method='relative')\n",
    "# for dollar_imbalance_roll\n",
    "roll_gaps_relative_dollar_imbalance = get_futures_roll_series(dollar_imbalance_roll, open_col='open', close_col='close',\n",
    "                                             sec_col='ticker', current_sec_col='nearest_contract', method='relative')"
   ],
   "id": "ae598c8412a5cd5f",
   "outputs": [],
   "execution_count": 11
  },
  {
   "metadata": {
    "ExecuteTime": {
     "end_time": "2025-02-09T08:24:49.055482Z",
     "start_time": "2025-02-09T08:24:49.052535Z"
    }
   },
   "cell_type": "code",
   "source": [
    "# apply the roll gaps\n",
    "continuous_dollar_relative_method = dollar_roll.copy()\n",
    "continuous_dollar_relative_method['close'] /= roll_gaps_relative_dollar\n",
    "\n",
    "continuous_dollar_imbalance_relative_method = dollar_imbalance_roll.copy()\n",
    "continuous_dollar_imbalance_relative_method['close'] /= roll_gaps_relative_dollar_imbalance\n",
    "\n",
    "\n"
   ],
   "id": "b0824672da41a84c",
   "outputs": [],
   "execution_count": 12
  },
  {
   "metadata": {
    "ExecuteTime": {
     "end_time": "2025-02-09T08:24:49.083030Z",
     "start_time": "2025-02-09T08:24:49.076816Z"
    }
   },
   "cell_type": "code",
   "source": [
    "# viewing the head of continuous_contract_relative_method\n",
    "continuous_dollar_relative_method.head()\n"
   ],
   "id": "eac9ee350d59f40a",
   "outputs": [
    {
     "data": {
      "text/plain": [
       "                               date    close     open    high      low   \n",
       "date_time                                                                \n",
       "2013-09-01 21:34:39.298  2013-09-01  1640.75  1640.25  1643.5  1639.00  \\\n",
       "2013-09-02 02:56:24.209  2013-09-02  1644.50  1640.75  1646.0  1640.25   \n",
       "2013-09-02 06:37:33.128  2013-09-02  1647.50  1644.50  1647.5  1644.25   \n",
       "2013-09-02 09:34:46.141  2013-09-02  1647.00  1647.50  1648.5  1645.25   \n",
       "2013-09-02 22:55:20.297  2013-09-02  1648.00  1647.00  1648.5  1645.25   \n",
       "\n",
       "                         volume ticker nearest_contract  \n",
       "date_time                                                \n",
       "2013-09-01 21:34:39.298   42862     ES               ES  \n",
       "2013-09-02 02:56:24.209   42585     ES               ES  \n",
       "2013-09-02 06:37:33.128   42580     ES               ES  \n",
       "2013-09-02 09:34:46.141   42535     ES               ES  \n",
       "2013-09-02 22:55:20.297   42512     ES               ES  "
      ],
      "text/html": [
       "<div>\n",
       "<style scoped>\n",
       "    .dataframe tbody tr th:only-of-type {\n",
       "        vertical-align: middle;\n",
       "    }\n",
       "\n",
       "    .dataframe tbody tr th {\n",
       "        vertical-align: top;\n",
       "    }\n",
       "\n",
       "    .dataframe thead th {\n",
       "        text-align: right;\n",
       "    }\n",
       "</style>\n",
       "<table border=\"1\" class=\"dataframe\">\n",
       "  <thead>\n",
       "    <tr style=\"text-align: right;\">\n",
       "      <th></th>\n",
       "      <th>date</th>\n",
       "      <th>close</th>\n",
       "      <th>open</th>\n",
       "      <th>high</th>\n",
       "      <th>low</th>\n",
       "      <th>volume</th>\n",
       "      <th>ticker</th>\n",
       "      <th>nearest_contract</th>\n",
       "    </tr>\n",
       "    <tr>\n",
       "      <th>date_time</th>\n",
       "      <th></th>\n",
       "      <th></th>\n",
       "      <th></th>\n",
       "      <th></th>\n",
       "      <th></th>\n",
       "      <th></th>\n",
       "      <th></th>\n",
       "      <th></th>\n",
       "    </tr>\n",
       "  </thead>\n",
       "  <tbody>\n",
       "    <tr>\n",
       "      <th>2013-09-01 21:34:39.298</th>\n",
       "      <td>2013-09-01</td>\n",
       "      <td>1640.75</td>\n",
       "      <td>1640.25</td>\n",
       "      <td>1643.5</td>\n",
       "      <td>1639.00</td>\n",
       "      <td>42862</td>\n",
       "      <td>ES</td>\n",
       "      <td>ES</td>\n",
       "    </tr>\n",
       "    <tr>\n",
       "      <th>2013-09-02 02:56:24.209</th>\n",
       "      <td>2013-09-02</td>\n",
       "      <td>1644.50</td>\n",
       "      <td>1640.75</td>\n",
       "      <td>1646.0</td>\n",
       "      <td>1640.25</td>\n",
       "      <td>42585</td>\n",
       "      <td>ES</td>\n",
       "      <td>ES</td>\n",
       "    </tr>\n",
       "    <tr>\n",
       "      <th>2013-09-02 06:37:33.128</th>\n",
       "      <td>2013-09-02</td>\n",
       "      <td>1647.50</td>\n",
       "      <td>1644.50</td>\n",
       "      <td>1647.5</td>\n",
       "      <td>1644.25</td>\n",
       "      <td>42580</td>\n",
       "      <td>ES</td>\n",
       "      <td>ES</td>\n",
       "    </tr>\n",
       "    <tr>\n",
       "      <th>2013-09-02 09:34:46.141</th>\n",
       "      <td>2013-09-02</td>\n",
       "      <td>1647.00</td>\n",
       "      <td>1647.50</td>\n",
       "      <td>1648.5</td>\n",
       "      <td>1645.25</td>\n",
       "      <td>42535</td>\n",
       "      <td>ES</td>\n",
       "      <td>ES</td>\n",
       "    </tr>\n",
       "    <tr>\n",
       "      <th>2013-09-02 22:55:20.297</th>\n",
       "      <td>2013-09-02</td>\n",
       "      <td>1648.00</td>\n",
       "      <td>1647.00</td>\n",
       "      <td>1648.5</td>\n",
       "      <td>1645.25</td>\n",
       "      <td>42512</td>\n",
       "      <td>ES</td>\n",
       "      <td>ES</td>\n",
       "    </tr>\n",
       "  </tbody>\n",
       "</table>\n",
       "</div>"
      ]
     },
     "execution_count": 13,
     "metadata": {},
     "output_type": "execute_result"
    }
   ],
   "execution_count": 13
  },
  {
   "metadata": {
    "ExecuteTime": {
     "end_time": "2025-02-09T08:25:51.648494Z",
     "start_time": "2025-02-09T08:25:51.640552Z"
    }
   },
   "cell_type": "code",
   "source": [
    "# viewing the head of continuous_contract_relative_method for dollar imbalance\n",
    "continuous_dollar_imbalance_relative_method.head()"
   ],
   "id": "a3ca6a54d5abce81",
   "outputs": [
    {
     "data": {
      "text/plain": [
       "                               date    close     open     high      low   \n",
       "date_time                                                                 \n",
       "2013-09-01 17:01:24.420  2013-09-01  1640.00  1640.25  1641.00  1639.00  \\\n",
       "2013-09-01 17:08:58.970  2013-09-01  1640.50  1640.00  1641.00  1639.50   \n",
       "2013-09-01 19:48:22.032  2013-09-01  1642.75  1640.50  1642.75  1639.50   \n",
       "2013-09-03 12:05:03.228  2013-09-03  1632.25  1642.75  1650.00  1632.00   \n",
       "2013-09-03 14:16:04.280  2013-09-03  1638.75  1632.25  1638.75  1630.75   \n",
       "\n",
       "                          volume ticker nearest_contract  \n",
       "date_time                                                 \n",
       "2013-09-01 17:01:24.420     4366     ES               ES  \n",
       "2013-09-01 17:08:58.970     2696     ES               ES  \n",
       "2013-09-01 19:48:22.032    22920     ES               ES  \n",
       "2013-09-03 12:05:03.228  1492401     ES               ES  \n",
       "2013-09-03 14:16:04.280   452350     ES               ES  "
      ],
      "text/html": [
       "<div>\n",
       "<style scoped>\n",
       "    .dataframe tbody tr th:only-of-type {\n",
       "        vertical-align: middle;\n",
       "    }\n",
       "\n",
       "    .dataframe tbody tr th {\n",
       "        vertical-align: top;\n",
       "    }\n",
       "\n",
       "    .dataframe thead th {\n",
       "        text-align: right;\n",
       "    }\n",
       "</style>\n",
       "<table border=\"1\" class=\"dataframe\">\n",
       "  <thead>\n",
       "    <tr style=\"text-align: right;\">\n",
       "      <th></th>\n",
       "      <th>date</th>\n",
       "      <th>close</th>\n",
       "      <th>open</th>\n",
       "      <th>high</th>\n",
       "      <th>low</th>\n",
       "      <th>volume</th>\n",
       "      <th>ticker</th>\n",
       "      <th>nearest_contract</th>\n",
       "    </tr>\n",
       "    <tr>\n",
       "      <th>date_time</th>\n",
       "      <th></th>\n",
       "      <th></th>\n",
       "      <th></th>\n",
       "      <th></th>\n",
       "      <th></th>\n",
       "      <th></th>\n",
       "      <th></th>\n",
       "      <th></th>\n",
       "    </tr>\n",
       "  </thead>\n",
       "  <tbody>\n",
       "    <tr>\n",
       "      <th>2013-09-01 17:01:24.420</th>\n",
       "      <td>2013-09-01</td>\n",
       "      <td>1640.00</td>\n",
       "      <td>1640.25</td>\n",
       "      <td>1641.00</td>\n",
       "      <td>1639.00</td>\n",
       "      <td>4366</td>\n",
       "      <td>ES</td>\n",
       "      <td>ES</td>\n",
       "    </tr>\n",
       "    <tr>\n",
       "      <th>2013-09-01 17:08:58.970</th>\n",
       "      <td>2013-09-01</td>\n",
       "      <td>1640.50</td>\n",
       "      <td>1640.00</td>\n",
       "      <td>1641.00</td>\n",
       "      <td>1639.50</td>\n",
       "      <td>2696</td>\n",
       "      <td>ES</td>\n",
       "      <td>ES</td>\n",
       "    </tr>\n",
       "    <tr>\n",
       "      <th>2013-09-01 19:48:22.032</th>\n",
       "      <td>2013-09-01</td>\n",
       "      <td>1642.75</td>\n",
       "      <td>1640.50</td>\n",
       "      <td>1642.75</td>\n",
       "      <td>1639.50</td>\n",
       "      <td>22920</td>\n",
       "      <td>ES</td>\n",
       "      <td>ES</td>\n",
       "    </tr>\n",
       "    <tr>\n",
       "      <th>2013-09-03 12:05:03.228</th>\n",
       "      <td>2013-09-03</td>\n",
       "      <td>1632.25</td>\n",
       "      <td>1642.75</td>\n",
       "      <td>1650.00</td>\n",
       "      <td>1632.00</td>\n",
       "      <td>1492401</td>\n",
       "      <td>ES</td>\n",
       "      <td>ES</td>\n",
       "    </tr>\n",
       "    <tr>\n",
       "      <th>2013-09-03 14:16:04.280</th>\n",
       "      <td>2013-09-03</td>\n",
       "      <td>1638.75</td>\n",
       "      <td>1632.25</td>\n",
       "      <td>1638.75</td>\n",
       "      <td>1630.75</td>\n",
       "      <td>452350</td>\n",
       "      <td>ES</td>\n",
       "      <td>ES</td>\n",
       "    </tr>\n",
       "  </tbody>\n",
       "</table>\n",
       "</div>"
      ]
     },
     "execution_count": 15,
     "metadata": {},
     "output_type": "execute_result"
    }
   ],
   "execution_count": 15
  },
  {
   "metadata": {},
   "cell_type": "markdown",
   "source": "### Computing Serial correlation of the Dollar and Dollar Imbalance Bars",
   "id": "86e95c95a3725301"
  },
  {
   "metadata": {
    "ExecuteTime": {
     "end_time": "2025-02-09T08:28:06.751724Z",
     "start_time": "2025-02-09T08:28:06.742035Z"
    }
   },
   "cell_type": "code",
   "source": [
    "# computing the returns for the dollar bars and dollar imbalance bars using pct change\n",
    "dollar_returns = continuous_dollar_relative_method['close'].pct_change().dropna()\n",
    "dollar_imbalance_returns = continuous_dollar_imbalance_relative_method['close'].pct_change().dropna()"
   ],
   "id": "70bef069eb7ab03c",
   "outputs": [],
   "execution_count": 16
  },
  {
   "metadata": {
    "ExecuteTime": {
     "end_time": "2025-02-09T08:28:38.533454Z",
     "start_time": "2025-02-09T08:28:38.526956Z"
    }
   },
   "cell_type": "code",
   "source": [
    "# computing the serial correlation for the dollar bars and dollar imbalance bars\n",
    "dollar_serial_corr = dollar_returns.autocorr()\n",
    "dollar_imbalance_serial_corr = dollar_imbalance_returns.autocorr()\n"
   ],
   "id": "cd35dc52dac01dd8",
   "outputs": [
    {
     "name": "stdout",
     "output_type": "stream",
     "text": [
      "Intel MKL WARNING: Support of Intel(R) Streaming SIMD Extensions 4.2 (Intel(R) SSE4.2) enabled only processors has been deprecated. Intel oneAPI Math Kernel Library 2025.0 will require Intel(R) Advanced Vector Extensions (Intel(R) AVX) instructions.\n",
      "Intel MKL WARNING: Support of Intel(R) Streaming SIMD Extensions 4.2 (Intel(R) SSE4.2) enabled only processors has been deprecated. Intel oneAPI Math Kernel Library 2025.0 will require Intel(R) Advanced Vector Extensions (Intel(R) AVX) instructions.\n"
     ]
    }
   ],
   "execution_count": 19
  },
  {
   "metadata": {
    "ExecuteTime": {
     "end_time": "2025-02-09T08:28:41.266853Z",
     "start_time": "2025-02-09T08:28:41.263669Z"
    }
   },
   "cell_type": "code",
   "source": [
    "# printing the serial correlation for the dollar bars and dollar imbalance bars\n",
    "print('Serial Correlation for Dollar Bars:', dollar_serial_corr)\n",
    "print('Serial Correlation for Dollar Imbalance Bars:', dollar_imbalance_serial_corr)"
   ],
   "id": "3c4bc99d861c73cb",
   "outputs": [
    {
     "name": "stdout",
     "output_type": "stream",
     "text": [
      "Serial Correlation for Dollar Bars: 0.00526983961302618\n",
      "Serial Correlation for Dollar Imbalance Bars: -0.4125859709318456\n"
     ]
    }
   ],
   "execution_count": 20
  }
 ],
 "metadata": {
  "kernelspec": {
   "display_name": "Python 3",
   "language": "python",
   "name": "python3"
  },
  "language_info": {
   "codemirror_mode": {
    "name": "ipython",
    "version": 2
   },
   "file_extension": ".py",
   "mimetype": "text/x-python",
   "name": "python",
   "nbconvert_exporter": "python",
   "pygments_lexer": "ipython2",
   "version": "2.7.6"
  }
 },
 "nbformat": 4,
 "nbformat_minor": 5
}
