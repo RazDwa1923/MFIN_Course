{
 "cells": [
  {
   "metadata": {},
   "cell_type": "markdown",
   "source": "### Importing Packages and API Key",
   "id": "7c69fcc8a36dc94c"
  },
  {
   "metadata": {
    "ExecuteTime": {
     "end_time": "2025-02-16T07:22:47.921451Z",
     "start_time": "2025-02-16T07:22:47.914858Z"
    }
   },
   "cell_type": "code",
   "source": [
    "# Import packages\n",
    "import numpy as np\n",
    "import pandas as pd\n",
    "import seaborn as sns\n",
    "import matplotlib.pyplot as plt\n",
    "import os\n",
    "from dotenv import load_dotenv\n",
    "from scipy import stats\n",
    "\n",
    "# Load environment variables from the .env file\n",
    "load_dotenv('../config.env')\n"
   ],
   "id": "7506c83f1d9efaeb",
   "outputs": [
    {
     "data": {
      "text/plain": [
       "True"
      ]
     },
     "execution_count": 1,
     "metadata": {},
     "output_type": "execute_result"
    }
   ],
   "execution_count": 1
  },
  {
   "metadata": {
    "ExecuteTime": {
     "end_time": "2025-02-16T07:22:52.058415Z",
     "start_time": "2025-02-16T07:22:47.924583Z"
    }
   },
   "cell_type": "code",
   "source": [
    "# Import MlFinLab package\n",
    "import mlfinlab\n",
    "from mlfinlab.data_structures.standard_data_structures import (get_dollar_bars,\n",
    "                                                               get_tick_bars, get_volume_bars)\n",
    "\n",
    "from mlfinlab.multi_product.etf_trick import get_futures_roll_series\n",
    "from mlfinlab.data_structures.imbalance_data_structures import get_ema_dollar_imbalance_bars\n"
   ],
   "id": "f4241373409827ea",
   "outputs": [
    {
     "name": "stderr",
     "output_type": "stream",
     "text": [
      "<frozen mlfinlab.util.fast_ewma>:17: NumbaDeprecationWarning: The 'nopython' keyword argument was not supplied to the 'numba.jit' decorator. The implicit default value for this argument is currently False, but it will be changed to True in Numba 0.59.0. See https://numba.readthedocs.io/en/stable/reference/deprecation.html#deprecation-of-object-mode-fall-back-behaviour-when-using-jit for details.\n"
     ]
    }
   ],
   "execution_count": 2
  },
  {
   "metadata": {},
   "cell_type": "markdown",
   "source": "### Importing Data and Creating Dollar Bars",
   "id": "f94e4af20570e7c1"
  },
  {
   "metadata": {
    "ExecuteTime": {
     "end_time": "2025-02-16T07:22:54.701925Z",
     "start_time": "2025-02-16T07:22:52.142675Z"
    }
   },
   "cell_type": "code",
   "source": [
    "# import ES_Trades data\n",
    "path = '../Data/ES_Trades.csv'\n",
    "data = pd.read_csv(path)\n",
    "\n",
    "# viewing data\n",
    "data.head()\n"
   ],
   "id": "23a73d9a805527fa",
   "outputs": [
    {
     "data": {
      "text/plain": [
       "  Symbol        Date          Time    Price  Volume Market Flag   \n",
       "0  ESU13  09/01/2013  17:00:00.083  1640.25       8           E  \\\n",
       "1  ESU13  09/01/2013  17:00:00.083  1640.25       1           E   \n",
       "2  ESU13  09/01/2013  17:00:00.083  1640.25       2           E   \n",
       "3  ESU13  09/01/2013  17:00:00.083  1640.25       1           E   \n",
       "4  ESU13  09/01/2013  17:00:00.083  1640.25       1           E   \n",
       "\n",
       "   Sales Condition  Exclude Record Flag  Unfiltered Price  \n",
       "0                0                  NaN           1640.25  \n",
       "1                0                  NaN           1640.25  \n",
       "2                0                  NaN           1640.25  \n",
       "3                0                  NaN           1640.25  \n",
       "4                0                  NaN           1640.25  "
      ],
      "text/html": [
       "<div>\n",
       "<style scoped>\n",
       "    .dataframe tbody tr th:only-of-type {\n",
       "        vertical-align: middle;\n",
       "    }\n",
       "\n",
       "    .dataframe tbody tr th {\n",
       "        vertical-align: top;\n",
       "    }\n",
       "\n",
       "    .dataframe thead th {\n",
       "        text-align: right;\n",
       "    }\n",
       "</style>\n",
       "<table border=\"1\" class=\"dataframe\">\n",
       "  <thead>\n",
       "    <tr style=\"text-align: right;\">\n",
       "      <th></th>\n",
       "      <th>Symbol</th>\n",
       "      <th>Date</th>\n",
       "      <th>Time</th>\n",
       "      <th>Price</th>\n",
       "      <th>Volume</th>\n",
       "      <th>Market Flag</th>\n",
       "      <th>Sales Condition</th>\n",
       "      <th>Exclude Record Flag</th>\n",
       "      <th>Unfiltered Price</th>\n",
       "    </tr>\n",
       "  </thead>\n",
       "  <tbody>\n",
       "    <tr>\n",
       "      <th>0</th>\n",
       "      <td>ESU13</td>\n",
       "      <td>09/01/2013</td>\n",
       "      <td>17:00:00.083</td>\n",
       "      <td>1640.25</td>\n",
       "      <td>8</td>\n",
       "      <td>E</td>\n",
       "      <td>0</td>\n",
       "      <td>NaN</td>\n",
       "      <td>1640.25</td>\n",
       "    </tr>\n",
       "    <tr>\n",
       "      <th>1</th>\n",
       "      <td>ESU13</td>\n",
       "      <td>09/01/2013</td>\n",
       "      <td>17:00:00.083</td>\n",
       "      <td>1640.25</td>\n",
       "      <td>1</td>\n",
       "      <td>E</td>\n",
       "      <td>0</td>\n",
       "      <td>NaN</td>\n",
       "      <td>1640.25</td>\n",
       "    </tr>\n",
       "    <tr>\n",
       "      <th>2</th>\n",
       "      <td>ESU13</td>\n",
       "      <td>09/01/2013</td>\n",
       "      <td>17:00:00.083</td>\n",
       "      <td>1640.25</td>\n",
       "      <td>2</td>\n",
       "      <td>E</td>\n",
       "      <td>0</td>\n",
       "      <td>NaN</td>\n",
       "      <td>1640.25</td>\n",
       "    </tr>\n",
       "    <tr>\n",
       "      <th>3</th>\n",
       "      <td>ESU13</td>\n",
       "      <td>09/01/2013</td>\n",
       "      <td>17:00:00.083</td>\n",
       "      <td>1640.25</td>\n",
       "      <td>1</td>\n",
       "      <td>E</td>\n",
       "      <td>0</td>\n",
       "      <td>NaN</td>\n",
       "      <td>1640.25</td>\n",
       "    </tr>\n",
       "    <tr>\n",
       "      <th>4</th>\n",
       "      <td>ESU13</td>\n",
       "      <td>09/01/2013</td>\n",
       "      <td>17:00:00.083</td>\n",
       "      <td>1640.25</td>\n",
       "      <td>1</td>\n",
       "      <td>E</td>\n",
       "      <td>0</td>\n",
       "      <td>NaN</td>\n",
       "      <td>1640.25</td>\n",
       "    </tr>\n",
       "  </tbody>\n",
       "</table>\n",
       "</div>"
      ]
     },
     "execution_count": 3,
     "metadata": {},
     "output_type": "execute_result"
    }
   ],
   "execution_count": 3
  },
  {
   "metadata": {
    "ExecuteTime": {
     "end_time": "2025-02-16T07:22:54.869355Z",
     "start_time": "2025-02-16T07:22:54.738526Z"
    }
   },
   "cell_type": "code",
   "source": [
    "# get all unique values of the 'Symbol' column\n",
    "\n",
    "data['Symbol'].unique()"
   ],
   "id": "f5ea14f74e4ec470",
   "outputs": [
    {
     "data": {
      "text/plain": [
       "array(['ESU13', 'ESZ13'], dtype=object)"
      ]
     },
     "execution_count": 4,
     "metadata": {},
     "output_type": "execute_result"
    }
   ],
   "execution_count": 4
  },
  {
   "metadata": {
    "ExecuteTime": {
     "end_time": "2025-02-16T07:22:55.385385Z",
     "start_time": "2025-02-16T07:22:54.894017Z"
    }
   },
   "cell_type": "code",
   "source": [
    "# Format the Data\n",
    "date_time = data['Date'] + ' ' + data['Time'] # Dont convert to datetime here, it will take forever to convert.\n",
    "new_data = pd.concat([date_time, data['Price'], data['Volume']], axis=1)\n",
    "new_data.columns = ['date', 'price', 'volume']\n",
    "print(new_data.head())\n",
    "print('\\n')\n",
    "print('Rows:', new_data.shape[0])\n"
   ],
   "id": "d05026bb46d2c762",
   "outputs": [
    {
     "name": "stdout",
     "output_type": "stream",
     "text": [
      "                      date    price  volume\n",
      "0  09/01/2013 17:00:00.083  1640.25       8\n",
      "1  09/01/2013 17:00:00.083  1640.25       1\n",
      "2  09/01/2013 17:00:00.083  1640.25       2\n",
      "3  09/01/2013 17:00:00.083  1640.25       1\n",
      "4  09/01/2013 17:00:00.083  1640.25       1\n",
      "\n",
      "\n",
      "Rows: 5454950\n"
     ]
    }
   ],
   "execution_count": 5
  },
  {
   "metadata": {
    "ExecuteTime": {
     "end_time": "2025-02-16T07:23:02.016986Z",
     "start_time": "2025-02-16T07:22:55.435197Z"
    }
   },
   "cell_type": "code",
   "source": [
    "# 'new_data' can be simply replaced with the file path where 'raw_tick_data' was saved if memory is an issue\n",
    "print('Creating Dollar Bars')\n",
    "dollar = get_dollar_bars(new_data, threshold=70000000,\n",
    "                         batch_size=1000000, verbose=True)\n"
   ],
   "id": "104a24994271ba17",
   "outputs": [
    {
     "name": "stdout",
     "output_type": "stream",
     "text": [
      "Creating Dollar Bars\n",
      "Reading data in batches:\n",
      "Batch number: 0\n",
      "Batch number: 1\n",
      "Batch number: 2\n",
      "Batch number: 3\n",
      "Batch number: 4\n",
      "Batch number: 5\n",
      "Returning bars \n",
      "\n"
     ]
    }
   ],
   "execution_count": 6
  },
  {
   "metadata": {},
   "cell_type": "markdown",
   "source": "### Confirming Sampling",
   "id": "6e98b235d3952687"
  },
  {
   "metadata": {
    "ExecuteTime": {
     "end_time": "2025-02-16T07:23:02.032871Z",
     "start_time": "2025-02-16T07:23:02.025680Z"
    }
   },
   "cell_type": "code",
   "source": [
    "# Confirm the dollar sampling\n",
    "dollar['value'] = dollar['close'] * dollar['volume']\n",
    "dollar.head()\n"
   ],
   "id": "b8a54fff840ab817",
   "outputs": [
    {
     "data": {
      "text/plain": [
       "                         tick_num     open    high      low    close  volume   \n",
       "date_time                                                                      \n",
       "09/01/2013 21:34:39.298     11207  1640.25  1643.5  1639.00  1640.75   42862  \\\n",
       "09/02/2013 02:56:24.209     26547  1640.75  1646.0  1640.25  1644.50   42585   \n",
       "09/02/2013 06:37:33.128     40473  1644.50  1647.5  1644.25  1647.50   42580   \n",
       "09/02/2013 09:34:46.141     51328  1647.50  1648.5  1645.25  1647.00   42535   \n",
       "09/02/2013 22:55:20.297     64261  1647.00  1648.5  1645.25  1648.00   42512   \n",
       "\n",
       "                         cum_buy_volume  cum_ticks  cum_dollar_value   \n",
       "date_time                                                              \n",
       "09/01/2013 21:34:39.298           21896      11207       70347610.00  \\\n",
       "09/02/2013 02:56:24.209           24320      15340       70000546.50   \n",
       "09/02/2013 06:37:33.128           23167      13926       70095794.25   \n",
       "09/02/2013 09:34:46.141           23904      10855       70053015.75   \n",
       "09/02/2013 22:55:20.297           23884      12933       70024910.50   \n",
       "\n",
       "                              value  \n",
       "date_time                            \n",
       "09/01/2013 21:34:39.298  70325826.5  \n",
       "09/02/2013 02:56:24.209  70031032.5  \n",
       "09/02/2013 06:37:33.128  70150550.0  \n",
       "09/02/2013 09:34:46.141  70055145.0  \n",
       "09/02/2013 22:55:20.297  70059776.0  "
      ],
      "text/html": [
       "<div>\n",
       "<style scoped>\n",
       "    .dataframe tbody tr th:only-of-type {\n",
       "        vertical-align: middle;\n",
       "    }\n",
       "\n",
       "    .dataframe tbody tr th {\n",
       "        vertical-align: top;\n",
       "    }\n",
       "\n",
       "    .dataframe thead th {\n",
       "        text-align: right;\n",
       "    }\n",
       "</style>\n",
       "<table border=\"1\" class=\"dataframe\">\n",
       "  <thead>\n",
       "    <tr style=\"text-align: right;\">\n",
       "      <th></th>\n",
       "      <th>tick_num</th>\n",
       "      <th>open</th>\n",
       "      <th>high</th>\n",
       "      <th>low</th>\n",
       "      <th>close</th>\n",
       "      <th>volume</th>\n",
       "      <th>cum_buy_volume</th>\n",
       "      <th>cum_ticks</th>\n",
       "      <th>cum_dollar_value</th>\n",
       "      <th>value</th>\n",
       "    </tr>\n",
       "    <tr>\n",
       "      <th>date_time</th>\n",
       "      <th></th>\n",
       "      <th></th>\n",
       "      <th></th>\n",
       "      <th></th>\n",
       "      <th></th>\n",
       "      <th></th>\n",
       "      <th></th>\n",
       "      <th></th>\n",
       "      <th></th>\n",
       "      <th></th>\n",
       "    </tr>\n",
       "  </thead>\n",
       "  <tbody>\n",
       "    <tr>\n",
       "      <th>09/01/2013 21:34:39.298</th>\n",
       "      <td>11207</td>\n",
       "      <td>1640.25</td>\n",
       "      <td>1643.5</td>\n",
       "      <td>1639.00</td>\n",
       "      <td>1640.75</td>\n",
       "      <td>42862</td>\n",
       "      <td>21896</td>\n",
       "      <td>11207</td>\n",
       "      <td>70347610.00</td>\n",
       "      <td>70325826.5</td>\n",
       "    </tr>\n",
       "    <tr>\n",
       "      <th>09/02/2013 02:56:24.209</th>\n",
       "      <td>26547</td>\n",
       "      <td>1640.75</td>\n",
       "      <td>1646.0</td>\n",
       "      <td>1640.25</td>\n",
       "      <td>1644.50</td>\n",
       "      <td>42585</td>\n",
       "      <td>24320</td>\n",
       "      <td>15340</td>\n",
       "      <td>70000546.50</td>\n",
       "      <td>70031032.5</td>\n",
       "    </tr>\n",
       "    <tr>\n",
       "      <th>09/02/2013 06:37:33.128</th>\n",
       "      <td>40473</td>\n",
       "      <td>1644.50</td>\n",
       "      <td>1647.5</td>\n",
       "      <td>1644.25</td>\n",
       "      <td>1647.50</td>\n",
       "      <td>42580</td>\n",
       "      <td>23167</td>\n",
       "      <td>13926</td>\n",
       "      <td>70095794.25</td>\n",
       "      <td>70150550.0</td>\n",
       "    </tr>\n",
       "    <tr>\n",
       "      <th>09/02/2013 09:34:46.141</th>\n",
       "      <td>51328</td>\n",
       "      <td>1647.50</td>\n",
       "      <td>1648.5</td>\n",
       "      <td>1645.25</td>\n",
       "      <td>1647.00</td>\n",
       "      <td>42535</td>\n",
       "      <td>23904</td>\n",
       "      <td>10855</td>\n",
       "      <td>70053015.75</td>\n",
       "      <td>70055145.0</td>\n",
       "    </tr>\n",
       "    <tr>\n",
       "      <th>09/02/2013 22:55:20.297</th>\n",
       "      <td>64261</td>\n",
       "      <td>1647.00</td>\n",
       "      <td>1648.5</td>\n",
       "      <td>1645.25</td>\n",
       "      <td>1648.00</td>\n",
       "      <td>42512</td>\n",
       "      <td>23884</td>\n",
       "      <td>12933</td>\n",
       "      <td>70024910.50</td>\n",
       "      <td>70059776.0</td>\n",
       "    </tr>\n",
       "  </tbody>\n",
       "</table>\n",
       "</div>"
      ]
     },
     "execution_count": 7,
     "metadata": {},
     "output_type": "execute_result"
    }
   ],
   "execution_count": 7
  },
  {
   "metadata": {},
   "cell_type": "markdown",
   "source": "### Creating a Continuous Futures Contract using the ETF Trick",
   "id": "16b0b9e2ea23b537"
  },
  {
   "metadata": {
    "ExecuteTime": {
     "end_time": "2025-02-16T07:23:02.070954Z",
     "start_time": "2025-02-16T07:23:02.063231Z"
    }
   },
   "cell_type": "code",
   "source": [
    "# making a copy of  dollar and dollar_imbalance\n",
    "dollar_roll = dollar.copy()\n",
    "\n",
    "# Ensure the index is a datetime object for each of the dataframes\n",
    "dollar_roll.index = pd.to_datetime(dollar_roll.index)\n",
    "\n",
    "# adding a date column to dollar_roll, tick and volume bars\n",
    "dollar_roll['date'] = dollar_roll.index.date\n",
    "\n",
    "# selecting only the columns we need for the ETF trick: 'date', 'date_time', 'close', 'open', 'high', 'low', 'volume' for each dataframe\n",
    "dollar_roll = dollar_roll[['date', 'close', 'open', 'high', 'low', 'volume']]\n",
    "\n",
    "# adding a ticker column to dollar_roll with the value 'ES' for each dataframe from above\n",
    "dollar_roll['ticker'] = 'ES'\n",
    "\n",
    "# adding a nearest_contract column to dollar_roll with the value 'ES' for each dataframe from above\n",
    "dollar_roll['nearest_contract'] = 'ES'\n",
    "\n"
   ],
   "id": "4609e35dad33d0f5",
   "outputs": [],
   "execution_count": 8
  },
  {
   "metadata": {
    "ExecuteTime": {
     "end_time": "2025-02-16T07:23:02.106545Z",
     "start_time": "2025-02-16T07:23:02.101944Z"
    }
   },
   "cell_type": "code",
   "source": [
    "# Get roll gaps (relative or absolute)\n",
    "\n",
    "# for dollar_roll\n",
    "roll_gaps_relative_dollar = get_futures_roll_series(dollar_roll, open_col='open', close_col='close',\n",
    "                                             sec_col='ticker', current_sec_col='nearest_contract', method='relative')\n"
   ],
   "id": "ae598c8412a5cd5f",
   "outputs": [],
   "execution_count": 9
  },
  {
   "metadata": {
    "ExecuteTime": {
     "end_time": "2025-02-16T07:23:02.153115Z",
     "start_time": "2025-02-16T07:23:02.149351Z"
    }
   },
   "cell_type": "code",
   "source": [
    "# apply the roll gaps\n",
    "continuous_dollar_relative_method = dollar_roll.copy()\n",
    "continuous_dollar_relative_method['close'] /= roll_gaps_relative_dollar\n",
    "\n"
   ],
   "id": "b0824672da41a84c",
   "outputs": [],
   "execution_count": 10
  },
  {
   "metadata": {
    "ExecuteTime": {
     "end_time": "2025-02-16T07:23:02.224363Z",
     "start_time": "2025-02-16T07:23:02.216690Z"
    }
   },
   "cell_type": "code",
   "source": [
    "# viewing the head of continuous_contract_relative_method\n",
    "continuous_dollar_relative_method\n"
   ],
   "id": "eac9ee350d59f40a",
   "outputs": [
    {
     "data": {
      "text/plain": [
       "                               date    close     open     high      low   \n",
       "date_time                                                                 \n",
       "2013-09-01 21:34:39.298  2013-09-01  1640.75  1640.25  1643.50  1639.00  \\\n",
       "2013-09-02 02:56:24.209  2013-09-02  1644.50  1640.75  1646.00  1640.25   \n",
       "2013-09-02 06:37:33.128  2013-09-02  1647.50  1644.50  1647.50  1644.25   \n",
       "2013-09-02 09:34:46.141  2013-09-02  1647.00  1647.50  1648.50  1645.25   \n",
       "2013-09-02 22:55:20.297  2013-09-02  1648.00  1647.00  1648.50  1645.25   \n",
       "...                             ...      ...      ...      ...      ...   \n",
       "2013-09-20 14:57:47.711  2013-09-20  1704.25  1702.50  1704.25  1702.25   \n",
       "2013-09-20 14:59:57.044  2013-09-20  1702.75  1704.25  1704.25  1702.25   \n",
       "2013-09-20 15:00:04.504  2013-09-20  1703.00  1702.75  1703.25  1701.50   \n",
       "2013-09-20 15:03:24.232  2013-09-20  1701.50  1703.00  1703.25  1701.50   \n",
       "2013-09-20 15:11:30.742  2013-09-20  1703.25  1701.50  1703.25  1701.25   \n",
       "\n",
       "                         volume ticker nearest_contract  \n",
       "date_time                                                \n",
       "2013-09-01 21:34:39.298   42862     ES               ES  \n",
       "2013-09-02 02:56:24.209   42585     ES               ES  \n",
       "2013-09-02 06:37:33.128   42580     ES               ES  \n",
       "2013-09-02 09:34:46.141   42535     ES               ES  \n",
       "2013-09-02 22:55:20.297   42512     ES               ES  \n",
       "...                         ...    ...              ...  \n",
       "2013-09-20 14:57:47.711   41089     ES               ES  \n",
       "2013-09-20 14:59:57.044   41104     ES               ES  \n",
       "2013-09-20 15:00:04.504   41157     ES               ES  \n",
       "2013-09-20 15:03:24.232   41168     ES               ES  \n",
       "2013-09-20 15:11:30.742   41124     ES               ES  \n",
       "\n",
       "[520 rows x 8 columns]"
      ],
      "text/html": [
       "<div>\n",
       "<style scoped>\n",
       "    .dataframe tbody tr th:only-of-type {\n",
       "        vertical-align: middle;\n",
       "    }\n",
       "\n",
       "    .dataframe tbody tr th {\n",
       "        vertical-align: top;\n",
       "    }\n",
       "\n",
       "    .dataframe thead th {\n",
       "        text-align: right;\n",
       "    }\n",
       "</style>\n",
       "<table border=\"1\" class=\"dataframe\">\n",
       "  <thead>\n",
       "    <tr style=\"text-align: right;\">\n",
       "      <th></th>\n",
       "      <th>date</th>\n",
       "      <th>close</th>\n",
       "      <th>open</th>\n",
       "      <th>high</th>\n",
       "      <th>low</th>\n",
       "      <th>volume</th>\n",
       "      <th>ticker</th>\n",
       "      <th>nearest_contract</th>\n",
       "    </tr>\n",
       "    <tr>\n",
       "      <th>date_time</th>\n",
       "      <th></th>\n",
       "      <th></th>\n",
       "      <th></th>\n",
       "      <th></th>\n",
       "      <th></th>\n",
       "      <th></th>\n",
       "      <th></th>\n",
       "      <th></th>\n",
       "    </tr>\n",
       "  </thead>\n",
       "  <tbody>\n",
       "    <tr>\n",
       "      <th>2013-09-01 21:34:39.298</th>\n",
       "      <td>2013-09-01</td>\n",
       "      <td>1640.75</td>\n",
       "      <td>1640.25</td>\n",
       "      <td>1643.50</td>\n",
       "      <td>1639.00</td>\n",
       "      <td>42862</td>\n",
       "      <td>ES</td>\n",
       "      <td>ES</td>\n",
       "    </tr>\n",
       "    <tr>\n",
       "      <th>2013-09-02 02:56:24.209</th>\n",
       "      <td>2013-09-02</td>\n",
       "      <td>1644.50</td>\n",
       "      <td>1640.75</td>\n",
       "      <td>1646.00</td>\n",
       "      <td>1640.25</td>\n",
       "      <td>42585</td>\n",
       "      <td>ES</td>\n",
       "      <td>ES</td>\n",
       "    </tr>\n",
       "    <tr>\n",
       "      <th>2013-09-02 06:37:33.128</th>\n",
       "      <td>2013-09-02</td>\n",
       "      <td>1647.50</td>\n",
       "      <td>1644.50</td>\n",
       "      <td>1647.50</td>\n",
       "      <td>1644.25</td>\n",
       "      <td>42580</td>\n",
       "      <td>ES</td>\n",
       "      <td>ES</td>\n",
       "    </tr>\n",
       "    <tr>\n",
       "      <th>2013-09-02 09:34:46.141</th>\n",
       "      <td>2013-09-02</td>\n",
       "      <td>1647.00</td>\n",
       "      <td>1647.50</td>\n",
       "      <td>1648.50</td>\n",
       "      <td>1645.25</td>\n",
       "      <td>42535</td>\n",
       "      <td>ES</td>\n",
       "      <td>ES</td>\n",
       "    </tr>\n",
       "    <tr>\n",
       "      <th>2013-09-02 22:55:20.297</th>\n",
       "      <td>2013-09-02</td>\n",
       "      <td>1648.00</td>\n",
       "      <td>1647.00</td>\n",
       "      <td>1648.50</td>\n",
       "      <td>1645.25</td>\n",
       "      <td>42512</td>\n",
       "      <td>ES</td>\n",
       "      <td>ES</td>\n",
       "    </tr>\n",
       "    <tr>\n",
       "      <th>...</th>\n",
       "      <td>...</td>\n",
       "      <td>...</td>\n",
       "      <td>...</td>\n",
       "      <td>...</td>\n",
       "      <td>...</td>\n",
       "      <td>...</td>\n",
       "      <td>...</td>\n",
       "      <td>...</td>\n",
       "    </tr>\n",
       "    <tr>\n",
       "      <th>2013-09-20 14:57:47.711</th>\n",
       "      <td>2013-09-20</td>\n",
       "      <td>1704.25</td>\n",
       "      <td>1702.50</td>\n",
       "      <td>1704.25</td>\n",
       "      <td>1702.25</td>\n",
       "      <td>41089</td>\n",
       "      <td>ES</td>\n",
       "      <td>ES</td>\n",
       "    </tr>\n",
       "    <tr>\n",
       "      <th>2013-09-20 14:59:57.044</th>\n",
       "      <td>2013-09-20</td>\n",
       "      <td>1702.75</td>\n",
       "      <td>1704.25</td>\n",
       "      <td>1704.25</td>\n",
       "      <td>1702.25</td>\n",
       "      <td>41104</td>\n",
       "      <td>ES</td>\n",
       "      <td>ES</td>\n",
       "    </tr>\n",
       "    <tr>\n",
       "      <th>2013-09-20 15:00:04.504</th>\n",
       "      <td>2013-09-20</td>\n",
       "      <td>1703.00</td>\n",
       "      <td>1702.75</td>\n",
       "      <td>1703.25</td>\n",
       "      <td>1701.50</td>\n",
       "      <td>41157</td>\n",
       "      <td>ES</td>\n",
       "      <td>ES</td>\n",
       "    </tr>\n",
       "    <tr>\n",
       "      <th>2013-09-20 15:03:24.232</th>\n",
       "      <td>2013-09-20</td>\n",
       "      <td>1701.50</td>\n",
       "      <td>1703.00</td>\n",
       "      <td>1703.25</td>\n",
       "      <td>1701.50</td>\n",
       "      <td>41168</td>\n",
       "      <td>ES</td>\n",
       "      <td>ES</td>\n",
       "    </tr>\n",
       "    <tr>\n",
       "      <th>2013-09-20 15:11:30.742</th>\n",
       "      <td>2013-09-20</td>\n",
       "      <td>1703.25</td>\n",
       "      <td>1701.50</td>\n",
       "      <td>1703.25</td>\n",
       "      <td>1701.25</td>\n",
       "      <td>41124</td>\n",
       "      <td>ES</td>\n",
       "      <td>ES</td>\n",
       "    </tr>\n",
       "  </tbody>\n",
       "</table>\n",
       "<p>520 rows × 8 columns</p>\n",
       "</div>"
      ]
     },
     "execution_count": 11,
     "metadata": {},
     "output_type": "execute_result"
    }
   ],
   "execution_count": 11
  },
  {
   "metadata": {},
   "cell_type": "markdown",
   "source": "### Bollinger Bands for Dollar Bars",
   "id": "576736e631d29d89"
  },
  {
   "metadata": {
    "ExecuteTime": {
     "end_time": "2025-02-16T07:23:02.387696Z",
     "start_time": "2025-02-16T07:23:02.374333Z"
    }
   },
   "cell_type": "code",
   "source": [
    "# computing the rolling mean and standard deviation for the dollar bars the close price\n",
    "rolling_mean_dollar = continuous_dollar_relative_method['close'].rolling(window=5).mean()\n",
    "rolling_std_dollar = continuous_dollar_relative_method['close'].rolling(window=5).std()\n",
    "\n",
    "# viewing the head of the rolling standard deviation\n",
    "rolling_std_dollar.head()"
   ],
   "id": "937e35541c9ae31b",
   "outputs": [
    {
     "data": {
      "text/plain": [
       "date_time\n",
       "2013-09-01 21:34:39.298         NaN\n",
       "2013-09-02 02:56:24.209         NaN\n",
       "2013-09-02 06:37:33.128         NaN\n",
       "2013-09-02 09:34:46.141         NaN\n",
       "2013-09-02 22:55:20.297    3.002083\n",
       "Name: close, dtype: float64"
      ]
     },
     "execution_count": 12,
     "metadata": {},
     "output_type": "execute_result"
    }
   ],
   "execution_count": 12
  },
  {
   "metadata": {
    "ExecuteTime": {
     "end_time": "2025-02-16T07:23:02.460861Z",
     "start_time": "2025-02-16T07:23:02.456136Z"
    }
   },
   "cell_type": "code",
   "source": [
    "# computing the upper and lower Bollinger Bands for the dollar bars and dollar imbalance bars\n",
    "upper_band_dollar = rolling_mean_dollar + (rolling_std_dollar * 2)\n",
    "lower_band_dollar = rolling_mean_dollar - (rolling_std_dollar * 2)\n",
    "\n"
   ],
   "id": "2993c57da2f5204",
   "outputs": [],
   "execution_count": 13
  },
  {
   "metadata": {
    "ExecuteTime": {
     "end_time": "2025-02-16T07:23:02.852885Z",
     "start_time": "2025-02-16T07:23:02.579793Z"
    }
   },
   "cell_type": "code",
   "source": [
    "# plotting the Bollinger Bands for the dollar bars and dollar imbalance bars\n",
    "plt.figure(figsize=(20, 10))\n",
    "plt.plot(continuous_dollar_relative_method['close'], label='Close Price', color='blue')\n",
    "plt.plot(rolling_mean_dollar, label='Rolling Mean', color='orange')\n",
    "plt.plot(upper_band_dollar, label='Upper Band', color='green')\n",
    "plt.plot(lower_band_dollar, label='Lower Band', color='red')\n",
    "plt.title('Bollinger Bands for Dollar Bars')\n",
    "plt.legend()\n",
    "plt.show()\n"
   ],
   "id": "ffde458cca7075fb",
   "outputs": [
    {
     "data": {
      "text/plain": [
       "<Figure size 2000x1000 with 1 Axes>"
      ],
      "image/png": "[encoded data removed]"
     },
     "metadata": {},
     "output_type": "display_data"
    }
   ],
   "execution_count": 14
  },
  {
   "metadata": {},
   "cell_type": "markdown",
   "source": "### CUSUM Filter Approach",
   "id": "423061255d0dbf2a"
  },
  {
   "metadata": {
    "ExecuteTime": {
     "end_time": "2025-02-16T07:23:02.933852Z",
     "start_time": "2025-02-16T07:23:02.924591Z"
    }
   },
   "cell_type": "code",
   "source": [
    "from mlfinlab.filters.filters import cusum_filter as CUSUMFilter\n",
    "\n",
    "# applying the CUSUM filter to dollar bars returns\n",
    "\n",
    "# computing the returns for the dollar bars using pct change\n",
    "dollar_returns = continuous_dollar_relative_method['close'].pct_change().dropna()\n",
    "\n",
    "# computing the CUSUM filter for the dollar bars returns with a threshold of 0.05\n",
    "cusum_filter = CUSUMFilter(dollar_returns, threshold=0.05)\n",
    "\n",
    "# creating a dataframe with only the filtered values\n",
    "filtered_dollar_returns = dollar_returns[cusum_filter]\n",
    "\n",
    "# viewing the head of the filtered dollar returns\n",
    "filtered_dollar_returns.head()\n"
   ],
   "id": "3224f93679e2ee80",
   "outputs": [
    {
     "data": {
      "text/plain": [
       "2013-09-02 06:37:33.128    0.001824\n",
       "2013-09-03 08:33:05.939    0.000607\n",
       "2013-09-03 08:36:23.346    0.000303\n",
       "2013-09-03 09:11:04.690    0.000607\n",
       "2013-09-03 13:59:58.999    0.001072\n",
       "Name: close, dtype: float64"
      ]
     },
     "execution_count": 15,
     "metadata": {},
     "output_type": "execute_result"
    }
   ],
   "execution_count": 15
  },
  {
   "metadata": {
    "ExecuteTime": {
     "end_time": "2025-02-16T07:23:03.004895Z",
     "start_time": "2025-02-16T07:23:03.002629Z"
    }
   },
   "cell_type": "code",
   "source": [
    "\n",
    "# priting the number of filtered samples\n",
    "print('Number of filtered samples:', len(filtered_dollar_returns))\n",
    "print('Number of unfiltered samples:', len(dollar_returns))\n",
    "print('Percentage of filtered samples:', len(filtered_dollar_returns)/len(dollar_returns)*100)\n"
   ],
   "id": "f1d03fa7878d3206",
   "outputs": [
    {
     "name": "stdout",
     "output_type": "stream",
     "text": [
      "Number of filtered samples: 149\n",
      "Number of unfiltered samples: 519\n",
      "Percentage of filtered samples: 28.709055876685934\n"
     ]
    }
   ],
   "execution_count": 16
  },
  {
   "metadata": {},
   "cell_type": "markdown",
   "source": "### Testing Hetrokedasticity of the Dollar Bars and CUSUM Filtered Returns",
   "id": "b9f3277fc23634fa"
  },
  {
   "metadata": {
    "ExecuteTime": {
     "end_time": "2025-02-16T07:24:34.360670Z",
     "start_time": "2025-02-16T07:24:34.356264Z"
    }
   },
   "cell_type": "code",
   "source": [
    "# comparing the hetrokedasticity of the dollar bars and the CUSUM filtered returns.\n",
    "\n",
    "# computing the rolling standard deviation  (n=5) of the dollar bars and the CUSUM filtered returns\n",
    "dollar_std = dollar_returns.rolling(window=5).std().dropna()\n",
    "filtered_std = filtered_dollar_returns.rolling(window=5).std().dropna()\n",
    "\n",
    "\n",
    "# printing the average standard deviation of the dollar bars and the CUSUM filtered returns\n",
    "print('Average Standard Deviation of Dollar Bars:', dollar_std.mean())\n",
    "print('Average Standard Deviation of CUSUM Filtered Returns:', filtered_std.mean())\n"
   ],
   "id": "553caf038c1d8a42",
   "outputs": [
    {
     "name": "stdout",
     "output_type": "stream",
     "text": [
      "Average Standard Deviation of Dollar Bars: 0.0008813943349389562\n",
      "Average Standard Deviation of CUSUM Filtered Returns: 0.0006555115684778403\n"
     ]
    }
   ],
   "execution_count": 19
  },
  {
   "metadata": {
    "ExecuteTime": {
     "end_time": "2025-02-16T07:23:03.158021Z",
     "start_time": "2025-02-16T07:23:03.152677Z"
    }
   },
   "cell_type": "code",
   "source": [
    "# calculculating the hetrokedasticity of the dollar bars and the CUSUM filtered returns using the Levene test\n",
    "levene_test = stats.levene(dollar_returns, filtered_dollar_returns)\n",
    "\n",
    "# printing the results of the Levene test\n",
    "print('Levene Test:', levene_test)"
   ],
   "id": "16816ac1f33d8c3c",
   "outputs": [
    {
     "name": "stdout",
     "output_type": "stream",
     "text": [
      "Levene Test: LeveneResult(statistic=11.910611626528475, pvalue=0.0005934171200912147)\n"
     ]
    }
   ],
   "execution_count": 18
  }
 ],
 "metadata": {
  "kernelspec": {
   "display_name": "Python 3",
   "language": "python",
   "name": "python3"
  },
  "language_info": {
   "codemirror_mode": {
    "name": "ipython",
    "version": 2
   },
   "file_extension": ".py",
   "mimetype": "text/x-python",
   "name": "python",
   "nbconvert_exporter": "python",
   "pygments_lexer": "ipython2",
   "version": "2.7.6"
  }
 },
 "nbformat": 4,
 "nbformat_minor": 5
}
